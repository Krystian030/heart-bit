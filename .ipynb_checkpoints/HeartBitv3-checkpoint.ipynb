{
 "cells": [
  {
   "cell_type": "markdown",
   "metadata": {},
   "source": [
    "# Data mining for HeartBit dataset\n",
    "---\n",
    "### Steps\n",
    "1. Exploratory Data Analysis\n",
    "    1.1. Understanding the problem\n",
    "    1.2. Getting to know the data\n",
    "    1.3. Prepare the data for training (training intermediate model)\n",
    "2. Training and improving the model and evaluating the model"
   ]
  },
  {
   "cell_type": "markdown",
   "metadata": {},
   "source": [
    "## 1. Exploratory Data Analysis\n",
    "### 1.1. Understanding the problem\n",
    "The goal of this project is to predict the NYHA class of a patient based on the patient's data. The NYHA (New York Heart Association) class is the functional classification system for the patient with heart failure in stage C or D. The classification is related to the patient symptoms and physical activity.\n",
    "\n",
    "The NYHA class is divided into four classes:\n",
    "- Class I: No limitation of physical activity. Ordinary physical activity does not cause undue fatigue, palpitation or shortness of breath.\n",
    "- Class II: Slight limitation of physical activity. Comfortable at rest. Ordinary physical activity results in fatigue, palpitation or shortness of breath.\n",
    "- Class III: Marked limitation of physical activity. Comfortable at rest. Less than ordinary activity causes fatigue, palpitation or shortness of breath.\n",
    "- Class IV: Unable to carry out any physical activity without discomfort. Symptoms of heart failure at rest. If any physical activity is undertaken, discomfort is increased.\n",
    "\n",
    "### 1.2. Getting to know the data\n",
    "For this project, I will be using the HeartBit dataset. The dataset contains values of 63 variables recorded for 469 patients.\n",
    "The variables can be grouped into following groups:\n",
    "- Clinical\n",
    "- Technical\n",
    "- Demographic\n",
    "- Anthropometry (pomiary antropometryczne - np. wzrost, waga)\n",
    "- Comorbidities (choroby współistniejące)\n",
    "- Treatment\n",
    "- Biochemistry\n",
    "- Fitness Level\n",
    "\n",
    "#### The variables\n",
    "\n",
    "| Additional variable number | Variable name | Variable description                                                                                                          | Character of data | Category of variable |\n",
    "|---------------------------|---------------|------------------------------------------------------------------------------------------------------------------------------|--------------------|----------------------|\n",
    "| VAR1                      | DEATH?        | information if the patient is death (1) or alive (0)                                                                         | binary             | Clinical             |\n",
    "| VAR2                      | DEATHDATE     | date of death (if death=1) or date of the confirmation that the patient is still alive                                       | date               | Technical            |\n",
    "| VAR3                      | TIMEFU        | number of days between examination and date death or date of the confirmation that the patient is still alive               | number             | Technical            |\n",
    "| VAR4                      | QOL           | result of the survey measuring the quality of life (QoL, total score range 0–105, from best to worst)                       | number             | Clinical             |\n",
    "| VAR5                      | OQLsub1       | scores for a QoL subscale - physical dimension (8 items, range 0–40 from best to worst)                                      | number             | Clinical             |\n",
    "| VAR6                      | OQLsub2       | scores for a QoL subscale - emotional dimension (5 items, range 0–25 from best to worst)                                     | number             | Clinical             |\n",
    "| VAR7                      | DOB           | date of birth                                                                                                                | date               | Technical            |\n",
    "| VAR8                      | DOE           | date of the examination                                                                                                      | date               | Technical            |\n",
    "| VAR9                      | AGE           | age at examination                                                                                                           | number             | Demographic          |\n",
    "| VAR10                     | HEIGHT.CM     | body height in cm                                                                                                            | number             | Anthropometry        |\n",
    "| VAR11                     | WEIGHT.KG     | body mass in kg                                                                                                              | number             | Anthropometry        |\n",
    "| VAR12                     | BMI           | body mass index (mass per squared height); <18.5=underweight range, 18.5 to <25=normal, 25-<30=overweight, 30.0 or higher=obese | number             | Anthropometry        |\n",
    "| VAR13                     | LVEF.0        | left ventricular ejection fraction - information from the heart ultrasound reflecting the efficiency of pumping                | number             | Clinical             |\n",
    "| VAR14                     | NYHA          | NYHA Classification - The Stages of Heart Failure                                                                            | category           | Clinical             |\n",
    "| VAR15                     | PM            | information about artificial pacemaker (0=no pacemaker)                                                                      | binary             | Clinical             |\n",
    "| VAR16                     | AETH.HF       | information about the clinical cause of heart failure (1=ischemic disease or 2=other)                                         | binary             | Clinical             |\n",
    "| VAR17                     | MI            | information about previous myocardial infarction (1=yes)                                                                      | binary             | Comorbidities        |\n",
    "| VAR18                     | AF            | information about atrial fibrillation (1=yes)                                                                                 | binary             | Comorbidities        |\n",
    "| VAR19                     | DM            | information about diabetes (1=yes)                                                                                            | binary             | Comorbidities        |\n",
    "| VAR20                     | HT            | information about hypertension (1=yes)                                                                                        | binary             | Comorbidities        |\n",
    "| VAR21                     | COPD          | information about lung disease (1=yes)                                                                                        | binary             | Comorbidities        |\n",
    "| VAR22                     | STROKE        | information about previous stroke (1=yes)                                                                                     | binary             | Comorbidities        |\n",
    "| VAR23                     | KIDNEY.DIS    | information about kidney disease (1=yes)                                                                                      | binary             | Comorbidities        |\n",
    "| VAR24                     | ACEI.ARB      | information about treatment using ace-inhibitors or ARB (similar drugs, 1=yes)                                                | binary             | Treatment            |\n",
    "| VAR25                     | BB            | information about treatment using beta blockers (1=yes)                                                                       | binary             | Treatment            |\n",
    "| VAR26                     | MRA           | information about treatment using aldosterone antagonists (1=yes)                                                             | binary             | Treatment            |\n",
    "| VAR27                     | DIUR          | information about treatment using oral diuretics (1=yes)                                                                      | binary             | Treatment            |\n",
    "| VAR28                     | ANTIPLAT      | information about treatment using antiplatelet drugs (1=yes)                                                                  | binary             | Treatment            |\n",
    "| VAR29                     | STATIN        | information about treatment using statin (1=yes)                                                                              | binary             | Treatment            |\n",
    "| VAR30                     | DIGOX         | information about treatment using digoxin (1=yes)                                                                             | binary             | Treatment            |\n",
    "| VAR31                     | HB            | level of blood hemoglobin                                                                                                    | number             | Biochemistry          |\n",
    "| VAR32                     | NA            | level of blood sodium                                                                                                        | number             | Biochemistry          |\n",
    "| VAR33                     | K             | level of blood potassium                                                                                                     | number             | Biochemistry          |\n",
    "| VAR34                     | BNP           | level of blood peptide: BNP (elevated level is characteristic for heart failure)                                              | number             | Biochemistry          |\n",
    "| VAR35                     | CRP           | level of blood protein CRP (characteristic for inflammation)                                                                  | number             | Biochemistry          |\n",
    "| VAR36                     | LVEDD         | parameter from heart ultrasound: left ventricular end diastolic diameter (increased in heart failure)                         | number             | Clinical             |\n",
    "| VAR37                     | MR            | Mitral regurgitation (valvular heart disease), bigger number = worse                                                         | categories         | Clinical             |\n",
    "| VAR38                     | REST.SBP      | systolic blood pressure at rest                                                                                              | number             | Clinical             |\n",
    "| VAR39                     | REST.DBP      | diastolic blood pressure at rest                                                                                             | number             | Clinical             |\n",
    "| VAR40                     | REST.HR       | heart rate at rest                                                                                                           | number             | Clinical             |\n",
    "| VAR41                     | EXERCISE1     | EXERCISE 1: number of seconds needed to complete the task, higher number = worse)                                             | number             | Fitness level        |\n",
    "| VAR42                     | EXERCISE2     | EXERCISE 2: number of repeated movements during the task (higher number = better result)                                      | number             | Fitness level        |\n",
    "| VAR43                     | EXERCISE3     | EXERCISE 3: number of repeated movements during the task (higher number = better result)                                      | number             | Fitness level        |\n",
    "| VAR44                     | 6MWT.DIST     | number of meters (distance) covered by the patient during the 6 minute walking test (bigger number = better)                  | number             | Fitness level        |\n",
    "| VAR45                     | 6MWT.FATIGUE  | the level of fatigue assessed by the patient after the walking test (using a scale 0-10)                                      | number OR categories | Fitness level        |\n",
    "| VAR46                     | 6MWT.DYSPN    | the level of shortness of breath during walking test assessed by the patient (using a scale 0-10)                             | number OR categories | Fitness level        |\n",
    "| VAR47                     | 6MWT.SBP1     | systolic blood pressure before the walking test                                                                               | number             | Fitness level        |\n",
    "| VAR48                     | 6MWT.DBP1     | diastolic blood pressure before the walking test                                                                              | number             | Fitness level        |\n",
    "| VAR49                     | 6MWT.HR1      | heart rate before the walking test                                                                                            | number             | Fitness level        |\n",
    "| VAR50                     | 6MWT.SBP2     | systolic blood pressure after the walking test                                                                                | number             | Fitness level        |\n",
    "| VAR51                     | 6MWT.DBP2     | diastolic blood pressure after the walking test                                                                               | number             | Fitness level        |\n",
    "| VAR52                     | 6MWT.HR2      | heart rate after the walking test                                                                                             | number             | Fitness level        |\n",
    "| VAR53                     | EXERCISE4     | EXERCISE4: the patient is asked to touch his/her feet with the fingers of the palms. The number represents centimeters          | number             | Fitness level        |\n",
    "| VAR54                     | EXERCISE5     | EXERCISE5: the patient is asked to touch left palm with the right one but it has to be done at his back. The number represents centimeters | number             | Fitness level        |\n",
    "| VAR55                     | CPX.TIME      | time of exercise on a treadmill                                                                                              | number             | Fitness level        |\n",
    "| VAR56                     | CPX.PEAKVO2   | peak oxygen consumption during exercise testing on a treadmill                                                               | number             | Fitness level        |\n",
    "| VAR57                     | CPX.PEAKVO2FORBM | peak oxygen consumption during exercise testing on a treadmill per body mass                                                | number             | Fitness level        |\n",
    "| VAR58                     | RER           | respiratory exchange ratio (index of metabolism during an exercise on a treadmill)                                          | number             | Fitness level        |\n",
    "| VAR59                     | SLOPE         | slope between oxygen and carbon dioxide during exercise testing on a treadmill                                               | number             | Fitness level        |\n",
    "| VAR60                     | METS          | number of metabolic equivalents (level of work performed by the patient during exercise using a treadmill)                    | number             | Fitness level        |\n",
    "| VAR61                     | WEBER         | The Weber classification: stratification of patients based on peak VO2 and anaerobic threshold to define functional physical capacity. Higher class is worse | categories         | Fitness level        |\n",
    "| VAR62                     | PEAK>18       | Dividing patients based on a cutoff value of peak oxygen consumption (used for Weber)                                         | binary             | Fitness level        |\n",
    "| VAR63                     | SLOPE>35      | Dividing patients based on a cutoff value of slope (used for Weber)                                                          | binary             | Fitness level        |\n",
    "\n",
    "---\n",
    "NOTES:\n",
    "- Sprawdzić dominujące wartości w kolumnach\n",
    "- Zapoznanie się z działaniem drzewa decyzyjnego z wykorzystaniem biblioteki scikit-learn (https://scikit-learn.org/stable/modules/tree.html)\n",
    "- Zamiana atrybutów nominalnych na numeryczne (https://scikit-learn.org/stable/modules/preprocessing.html#encoding-categorical-features)\n",
    "- Redukcja wielowymiarowości (https://scikit-learn.org/stable/modules/decomposition.html#decompositions)\n",
    "- Wyważanie klas ze względu na niezbalansowane dane, aby zapobiec tendencyjności modelu w kierunku klasy dominującej - ustawienie class_weight='balanced' (https://scikit-learn.org/stable/modules/generated/sklearn.tree.DecisionTreeClassifier.html)\n",
    "- przycinanie drzewa decyzyjnego\n",
    "- scikit-learn wykorzystuje zoptymalizowaną wersję algorytmu CART (Classification and Regression Trees) i nie obsługuje obecnie zmiennych kategorycznych"
   ]
  },
  {
   "cell_type": "markdown",
   "metadata": {},
   "source": [
    "# 1.3. Prepare data for analysis\n",
    "---\n",
    "\n",
    "During the data preparation phase, we will perform the following steps:\n",
    "- Load data\n",
    "- Remove unnecessary columns\n",
    "- Normalize NYHA target values to 0-4 range\n",
    "- Divide attributes into groups\n",
    "- Create the model for each group of attributes\n",
    "- Analysis of each group of attributes to find the most important ones\n",
    "---"
   ]
  },
  {
   "cell_type": "code",
   "execution_count": 9,
   "metadata": {
    "ExecuteTime": {
     "end_time": "2023-06-21T11:06:26.322675Z",
     "start_time": "2023-06-21T11:06:26.008923Z"
    }
   },
   "outputs": [],
   "source": [
    "# Imports\n",
    "import matplotlib.pyplot as plt\n",
    "import numpy as np\n",
    "import pandas as pd\n",
    "import seaborn as sns\n",
    "from sklearn.model_selection import GridSearchCV\n",
    "from sklearn.model_selection import cross_val_score, KFold\n",
    "from sklearn.tree import DecisionTreeClassifier"
   ]
  },
  {
   "cell_type": "code",
   "execution_count": 10,
   "metadata": {
    "ExecuteTime": {
     "end_time": "2023-06-21T11:06:26.470454Z",
     "start_time": "2023-06-21T11:06:26.014977Z"
    }
   },
   "outputs": [
    {
     "name": "stderr",
     "output_type": "stream",
     "text": [
      "C:\\Users\\Krystian\\AppData\\Local\\Temp\\ipykernel_24696\\2532535120.py:6: SettingWithCopyWarning: \n",
      "A value is trying to be set on a copy of a slice from a DataFrame\n",
      "\n",
      "See the caveats in the documentation: https://pandas.pydata.org/pandas-docs/stable/user_guide/indexing.html#returning-a-view-versus-a-copy\n",
      "  data_headers[\"VAR32\"][0] = \"NA\"\n"
     ]
    },
    {
     "data": {
      "text/html": [
       "<div>\n",
       "<style scoped>\n",
       "    .dataframe tbody tr th:only-of-type {\n",
       "        vertical-align: middle;\n",
       "    }\n",
       "\n",
       "    .dataframe tbody tr th {\n",
       "        vertical-align: top;\n",
       "    }\n",
       "\n",
       "    .dataframe thead th {\n",
       "        text-align: right;\n",
       "    }\n",
       "</style>\n",
       "<table border=\"1\" class=\"dataframe\">\n",
       "  <thead>\n",
       "    <tr style=\"text-align: right;\">\n",
       "      <th></th>\n",
       "      <th>VAR1</th>\n",
       "      <th>VAR2</th>\n",
       "      <th>VAR3</th>\n",
       "      <th>VAR4</th>\n",
       "      <th>VAR5</th>\n",
       "      <th>VAR6</th>\n",
       "      <th>VAR7</th>\n",
       "      <th>VAR8</th>\n",
       "      <th>VAR9</th>\n",
       "      <th>VAR10</th>\n",
       "      <th>...</th>\n",
       "      <th>VAR54</th>\n",
       "      <th>VAR55</th>\n",
       "      <th>VAR56</th>\n",
       "      <th>VAR57</th>\n",
       "      <th>VAR58</th>\n",
       "      <th>VAR59</th>\n",
       "      <th>VAR60</th>\n",
       "      <th>VAR61</th>\n",
       "      <th>VAR62</th>\n",
       "      <th>VAR63</th>\n",
       "    </tr>\n",
       "  </thead>\n",
       "  <tbody>\n",
       "    <tr>\n",
       "      <th>0</th>\n",
       "      <td>DEATH?</td>\n",
       "      <td>DEATHDATE</td>\n",
       "      <td>TIMEFU</td>\n",
       "      <td>QOL</td>\n",
       "      <td>OQLsub1</td>\n",
       "      <td>OQLsub2</td>\n",
       "      <td>DOB</td>\n",
       "      <td>DOE</td>\n",
       "      <td>AGE</td>\n",
       "      <td>HEIGHT.CM</td>\n",
       "      <td>...</td>\n",
       "      <td>EXERCISE5</td>\n",
       "      <td>CPX.TIME</td>\n",
       "      <td>CPX.PEAKVO2</td>\n",
       "      <td>CPX.PEAKVO2FORBM</td>\n",
       "      <td>RER</td>\n",
       "      <td>SLOPE</td>\n",
       "      <td>METS</td>\n",
       "      <td>WEBER</td>\n",
       "      <td>PEAK&gt;18</td>\n",
       "      <td>SLOPE&gt;35</td>\n",
       "    </tr>\n",
       "  </tbody>\n",
       "</table>\n",
       "<p>1 rows × 63 columns</p>\n",
       "</div>"
      ],
      "text/plain": [
       "     VAR1       VAR2    VAR3 VAR4     VAR5     VAR6 VAR7 VAR8 VAR9      VAR10  \\\n",
       "0  DEATH?  DEATHDATE  TIMEFU  QOL  OQLsub1  OQLsub2  DOB  DOE  AGE  HEIGHT.CM   \n",
       "\n",
       "   ...      VAR54     VAR55        VAR56             VAR57 VAR58  VAR59 VAR60  \\\n",
       "0  ...  EXERCISE5  CPX.TIME  CPX.PEAKVO2  CPX.PEAKVO2FORBM   RER  SLOPE  METS   \n",
       "\n",
       "   VAR61    VAR62     VAR63  \n",
       "0  WEBER  PEAK>18  SLOPE>35  \n",
       "\n",
       "[1 rows x 63 columns]"
      ]
     },
     "execution_count": 10,
     "metadata": {},
     "output_type": "execute_result"
    }
   ],
   "source": [
    "# Load data variables names and additional variable numbers\n",
    "data_headers = pd.read_excel(\"data/heartbit.xlsx\", nrows=1)\n",
    "# Drop unnecessary CODES column\n",
    "data_headers = data_headers.drop(columns=['CODES'])\n",
    "data_headers.head()\n",
    "data_headers[\"VAR32\"][0] = \"NA\"\n",
    "data_headers.head()"
   ]
  },
  {
   "cell_type": "code",
   "execution_count": 11,
   "metadata": {
    "ExecuteTime": {
     "end_time": "2023-06-21T11:06:26.526753Z",
     "start_time": "2023-06-21T11:06:26.061385Z"
    }
   },
   "outputs": [
    {
     "name": "stdout",
     "output_type": "stream",
     "text": [
      "NYHA missing values: 9\n",
      "Data size: (460, 63)\n",
      "NYHA\n",
      "2.0    238\n",
      "3.0    125\n",
      "1.0     85\n",
      "4.0     12\n",
      "Name: count, dtype: int64\n"
     ]
    },
    {
     "data": {
      "text/html": [
       "<div>\n",
       "<style scoped>\n",
       "    .dataframe tbody tr th:only-of-type {\n",
       "        vertical-align: middle;\n",
       "    }\n",
       "\n",
       "    .dataframe tbody tr th {\n",
       "        vertical-align: top;\n",
       "    }\n",
       "\n",
       "    .dataframe thead th {\n",
       "        text-align: right;\n",
       "    }\n",
       "</style>\n",
       "<table border=\"1\" class=\"dataframe\">\n",
       "  <thead>\n",
       "    <tr style=\"text-align: right;\">\n",
       "      <th></th>\n",
       "      <th>DEATH?</th>\n",
       "      <th>DEATHDATE</th>\n",
       "      <th>TIMEFU</th>\n",
       "      <th>QOL</th>\n",
       "      <th>OQLsub1</th>\n",
       "      <th>OQLsub2</th>\n",
       "      <th>DOB</th>\n",
       "      <th>DOE</th>\n",
       "      <th>AGE</th>\n",
       "      <th>HEIGHT.CM</th>\n",
       "      <th>...</th>\n",
       "      <th>EXERCISE5</th>\n",
       "      <th>CPX.TIME</th>\n",
       "      <th>CPX.PEAKVO2</th>\n",
       "      <th>CPX.PEAKVO2FORBM</th>\n",
       "      <th>RER</th>\n",
       "      <th>SLOPE</th>\n",
       "      <th>METS</th>\n",
       "      <th>WEBER</th>\n",
       "      <th>PEAK&gt;18</th>\n",
       "      <th>SLOPE&gt;35</th>\n",
       "    </tr>\n",
       "  </thead>\n",
       "  <tbody>\n",
       "    <tr>\n",
       "      <th>0</th>\n",
       "      <td>0.0</td>\n",
       "      <td>2012-02-03</td>\n",
       "      <td>2076</td>\n",
       "      <td>27.0</td>\n",
       "      <td>23.0</td>\n",
       "      <td>4.0</td>\n",
       "      <td>1959-06-14</td>\n",
       "      <td>2006-05-29</td>\n",
       "      <td>46.989041</td>\n",
       "      <td>170.0</td>\n",
       "      <td>...</td>\n",
       "      <td>-10.0</td>\n",
       "      <td>14.523</td>\n",
       "      <td>2577.8</td>\n",
       "      <td>23.98</td>\n",
       "      <td>1.04</td>\n",
       "      <td>37.485389</td>\n",
       "      <td>6.851429</td>\n",
       "      <td>1.0</td>\n",
       "      <td>1.0</td>\n",
       "      <td>1.0</td>\n",
       "    </tr>\n",
       "    <tr>\n",
       "      <th>1</th>\n",
       "      <td>0.0</td>\n",
       "      <td>2012-08-12</td>\n",
       "      <td>2316</td>\n",
       "      <td>42.0</td>\n",
       "      <td>37.0</td>\n",
       "      <td>5.0</td>\n",
       "      <td>1958-12-22</td>\n",
       "      <td>2006-04-10</td>\n",
       "      <td>47.331507</td>\n",
       "      <td>165.0</td>\n",
       "      <td>...</td>\n",
       "      <td>-13.0</td>\n",
       "      <td>17.267</td>\n",
       "      <td>1555.8</td>\n",
       "      <td>22.22</td>\n",
       "      <td>1.00</td>\n",
       "      <td>37.232158</td>\n",
       "      <td>6.348571</td>\n",
       "      <td>1.0</td>\n",
       "      <td>1.0</td>\n",
       "      <td>1.0</td>\n",
       "    </tr>\n",
       "    <tr>\n",
       "      <th>2</th>\n",
       "      <td>0.0</td>\n",
       "      <td>2012-02-21</td>\n",
       "      <td>2349</td>\n",
       "      <td>0.0</td>\n",
       "      <td>0.0</td>\n",
       "      <td>0.0</td>\n",
       "      <td>1945-11-25</td>\n",
       "      <td>2005-09-16</td>\n",
       "      <td>59.849315</td>\n",
       "      <td>177.0</td>\n",
       "      <td>...</td>\n",
       "      <td>-22.0</td>\n",
       "      <td>15.195</td>\n",
       "      <td>1748.6</td>\n",
       "      <td>21.86</td>\n",
       "      <td>1.17</td>\n",
       "      <td>44.719476</td>\n",
       "      <td>6.245714</td>\n",
       "      <td>1.0</td>\n",
       "      <td>1.0</td>\n",
       "      <td>1.0</td>\n",
       "    </tr>\n",
       "    <tr>\n",
       "      <th>3</th>\n",
       "      <td>0.0</td>\n",
       "      <td>2013-02-03</td>\n",
       "      <td>2459</td>\n",
       "      <td>10.0</td>\n",
       "      <td>7.0</td>\n",
       "      <td>3.0</td>\n",
       "      <td>1945-03-20</td>\n",
       "      <td>2006-05-12</td>\n",
       "      <td>61.186301</td>\n",
       "      <td>173.0</td>\n",
       "      <td>...</td>\n",
       "      <td>-38.0</td>\n",
       "      <td>13.450</td>\n",
       "      <td>1799.8</td>\n",
       "      <td>20.58</td>\n",
       "      <td>1.16</td>\n",
       "      <td>39.423029</td>\n",
       "      <td>5.880000</td>\n",
       "      <td>1.0</td>\n",
       "      <td>1.0</td>\n",
       "      <td>1.0</td>\n",
       "    </tr>\n",
       "    <tr>\n",
       "      <th>4</th>\n",
       "      <td>0.0</td>\n",
       "      <td>2013-02-03</td>\n",
       "      <td>2629</td>\n",
       "      <td>4.0</td>\n",
       "      <td>2.0</td>\n",
       "      <td>2.0</td>\n",
       "      <td>1982-03-07</td>\n",
       "      <td>2005-11-23</td>\n",
       "      <td>23.731507</td>\n",
       "      <td>180.0</td>\n",
       "      <td>...</td>\n",
       "      <td>4.0</td>\n",
       "      <td>16.380</td>\n",
       "      <td>2626.4</td>\n",
       "      <td>26.54</td>\n",
       "      <td>1.21</td>\n",
       "      <td>21.051193</td>\n",
       "      <td>7.582857</td>\n",
       "      <td>1.0</td>\n",
       "      <td>1.0</td>\n",
       "      <td>0.0</td>\n",
       "    </tr>\n",
       "  </tbody>\n",
       "</table>\n",
       "<p>5 rows × 63 columns</p>\n",
       "</div>"
      ],
      "text/plain": [
       "   DEATH?  DEATHDATE TIMEFU   QOL  OQLsub1  OQLsub2        DOB        DOE  \\\n",
       "0     0.0 2012-02-03   2076  27.0     23.0      4.0 1959-06-14 2006-05-29   \n",
       "1     0.0 2012-08-12   2316  42.0     37.0      5.0 1958-12-22 2006-04-10   \n",
       "2     0.0 2012-02-21   2349   0.0      0.0      0.0 1945-11-25 2005-09-16   \n",
       "3     0.0 2013-02-03   2459  10.0      7.0      3.0 1945-03-20 2006-05-12   \n",
       "4     0.0 2013-02-03   2629   4.0      2.0      2.0 1982-03-07 2005-11-23   \n",
       "\n",
       "         AGE  HEIGHT.CM  ...  EXERCISE5  CPX.TIME  CPX.PEAKVO2  \\\n",
       "0  46.989041      170.0  ...      -10.0    14.523       2577.8   \n",
       "1  47.331507      165.0  ...      -13.0    17.267       1555.8   \n",
       "2  59.849315      177.0  ...      -22.0    15.195       1748.6   \n",
       "3  61.186301      173.0  ...      -38.0    13.450       1799.8   \n",
       "4  23.731507      180.0  ...        4.0    16.380       2626.4   \n",
       "\n",
       "   CPX.PEAKVO2FORBM   RER      SLOPE      METS  WEBER  PEAK>18  SLOPE>35  \n",
       "0             23.98  1.04  37.485389  6.851429    1.0      1.0       1.0  \n",
       "1             22.22  1.00  37.232158  6.348571    1.0      1.0       1.0  \n",
       "2             21.86  1.17  44.719476  6.245714    1.0      1.0       1.0  \n",
       "3             20.58  1.16  39.423029  5.880000    1.0      1.0       1.0  \n",
       "4             26.54  1.21  21.051193  7.582857    1.0      1.0       0.0  \n",
       "\n",
       "[5 rows x 63 columns]"
      ]
     },
     "execution_count": 11,
     "metadata": {},
     "output_type": "execute_result"
    }
   ],
   "source": [
    "# Load data\n",
    "data = pd.read_excel(\"data/heartbit.xlsx\", header=1)\n",
    "\n",
    "# Remove unnecessary CODES column\n",
    "data = data.drop(columns=['ID CODES '])\n",
    "\n",
    "# First normalize NYHA target values to 0-4 range. Replace 1.5, 2.5, 3.5 with 1, 2, 4 respectively and remove examples with NYHA missing values\n",
    "data['NYHA'] = data['NYHA'].replace([1.5, 2.5, 3.5], [1, 2, 4])\n",
    "print(f\"NYHA missing values: {data['NYHA'].isnull().sum()}\")\n",
    "data = data.dropna(subset=['NYHA'])\n",
    "size_of_data = data.shape\n",
    "print(f\"Data size: {size_of_data}\")\n",
    "NYHA = data['NYHA']\n",
    "# Calculate size of datas per target value\n",
    "print(NYHA.value_counts())\n",
    "\n",
    "data.head()"
   ]
  },
  {
   "cell_type": "code",
   "execution_count": 12,
   "metadata": {
    "ExecuteTime": {
     "end_time": "2023-06-21T11:06:26.526753Z",
     "start_time": "2023-06-21T11:06:26.325803Z"
    }
   },
   "outputs": [
    {
     "data": {
      "text/plain": [
       "OQLsub1        232\n",
       "OQLsub2        232\n",
       "CPX.PEAKVO2    213\n",
       "QOL            209\n",
       "METS           199\n",
       "              ... \n",
       "NYHA             0\n",
       "WEIGHT.KG        0\n",
       "HEIGHT.CM        0\n",
       "BMI              0\n",
       "DOE              0\n",
       "Length: 63, dtype: int64"
      ]
     },
     "execution_count": 12,
     "metadata": {},
     "output_type": "execute_result"
    }
   ],
   "source": [
    "# Check missing values\n",
    "data.isnull().sum()\n",
    "# Print all columns with missing values in descending order\n",
    "data.isnull().sum().sort_values(ascending=False)"
   ]
  },
  {
   "cell_type": "code",
   "execution_count": 13,
   "metadata": {
    "ExecuteTime": {
     "end_time": "2023-06-21T11:06:26.526753Z",
     "start_time": "2023-06-21T11:06:26.343775Z"
    }
   },
   "outputs": [],
   "source": [
    "groups = {\n",
    "    'clinical': ['VAR1', 'VAR4', 'VAR5', 'VAR6', 'VAR13', 'VAR14', 'VAR15', 'VAR16', 'VAR36', 'VAR37', 'VAR38', 'VAR39',\n",
    "                 'VAR40'],\n",
    "    'technical': ['VAR2', 'VAR3', 'VAR7', 'VAR8'],\n",
    "    'demographic': ['VAR9'],\n",
    "    'anthropometry': ['VAR10', 'VAR11', 'VAR12'],\n",
    "    'comorbidities': ['VAR17', 'VAR18', 'VAR19', 'VAR20', 'VAR21', 'VAR22', 'VAR23'],\n",
    "    'treatment': ['VAR24', 'VAR25', 'VAR26', 'VAR27', 'VAR28', 'VAR29', 'VAR30'],\n",
    "    'biochemistry': ['VAR31', 'VAR32', 'VAR33', 'VAR34', 'VAR35'],\n",
    "    'fitness_level': ['VAR41', 'VAR42', 'VAR43', 'VAR44', 'VAR45', 'VAR46', 'VAR47', 'VAR48', 'VAR49', 'VAR50', 'VAR51',\n",
    "                      'VAR52', 'VAR53', 'VAR54', 'VAR55', 'VAR56', 'VAR57', 'VAR58', 'VAR59', 'VAR60', 'VAR61', 'VAR62',\n",
    "                      'VAR63']\n",
    "}\n",
    "\n",
    "# Replace variable numbers with variable names in groups\n",
    "for group_name, list_of_variables in groups.items():\n",
    "    for variable in list_of_variables:\n",
    "        groups[group_name][list_of_variables.index(variable)] = data_headers[variable][0]"
   ]
  },
  {
   "cell_type": "markdown",
   "metadata": {},
   "source": [
    "# Grouping variables\n",
    "Before I start analyzing data I want to group variables into categories. I will use this grouping later to analyze correlation between variables and to select variables for training the model. I will also use this grouping to analyze correlation between variables and target variable."
   ]
  },
  {
   "cell_type": "markdown",
   "metadata": {},
   "source": [
    "# Helper functions"
   ]
  },
  {
   "cell_type": "code",
   "execution_count": 14,
   "metadata": {
    "ExecuteTime": {
     "end_time": "2023-06-21T11:06:26.526753Z",
     "start_time": "2023-06-21T11:06:26.362309Z"
    }
   },
   "outputs": [],
   "source": [
    "param_grid = {\n",
    "    'class_weight': ['balanced', None],\n",
    "    'criterion': ['gini', 'entropy'],\n",
    "    'max_depth': [2, 3, 4, 5, 6, 7, 8, 9, 10],\n",
    "    'min_samples_split': [2, 3, 4, 5, 6, 7, 8, 9, 10],\n",
    "    'min_samples_leaf': [1, 2, 3, 4, 5, 6, 7, 8, 9],\n",
    "}\n",
    "\n",
    "\n",
    "def plot_corr_matrix(data, title, size):\n",
    "    corr_matrix = data.corr()\n",
    "\n",
    "    # Plot correlation chart\n",
    "    plt.figure(figsize=size)\n",
    "    sns.heatmap(corr_matrix, annot=True, cmap='coolwarm')\n",
    "    plt.title(f'Correlation matrix for {title}')\n",
    "    plt.show()\n",
    "\n",
    "\n",
    "def plot_boxplot(data, title, size, x='NYHA', y=None):\n",
    "    plt.figure(figsize=size)\n",
    "    sns.boxplot(x=x, y=y, data=data)\n",
    "    plt.title(f'Boxplot for {title}')\n",
    "    plt.show()\n",
    "\n",
    "\n",
    "def prepare_group_checking(group):\n",
    "    corr_matrix = group.corr()\n",
    "    group_checking = {}\n",
    "    for column in group.columns:\n",
    "        if column == 'NYHA':\n",
    "            continue\n",
    "\n",
    "        group_checking[column] = [abs(corr_matrix[column]['NYHA']),\n",
    "                                  group[column].isnull().sum()]\n",
    "\n",
    "    return group_checking\n",
    "\n",
    "\n",
    "def add_importance_to_group_checking(group_checking, feature_importances, X):\n",
    "    for column in group_checking.keys():\n",
    "        if column == 'NYHA':\n",
    "            continue\n",
    "\n",
    "        group_checking[column].append(feature_importances[X.columns.get_loc(column)])\n",
    "\n",
    "    return group_checking\n",
    "\n",
    "\n",
    "def convert_group_checking_to_dataframe(group_checking, by='correlation', ascending=False,\n",
    "                                        columns=['correlation', 'missing_values', 'importance']):\n",
    "    group_checking_df = pd.DataFrame.from_dict(group_checking, orient='index', columns=columns)\n",
    "    group_checking_df = group_checking_df.sort_values(by=[by], ascending=ascending)\n",
    "\n",
    "    return group_checking_df\n",
    "\n",
    "\n",
    "def print_feature_importances(feature_importances, X):\n",
    "    feature_importances_df = pd.DataFrame({'feature': X.columns, 'importance': feature_importances})\n",
    "    feature_importances_df = feature_importances_df.sort_values(by=['importance'], ascending=False)\n",
    "    print(feature_importances_df)\n",
    "\n",
    "\n",
    "def create_grid_search(model, X, y, parameters=param_grid, cv=10):\n",
    "    # cross validation score before grid search\n",
    "    before_grid_search = cross_val_score(model, X, y, cv=KFold(n_splits=cv, shuffle=True)).mean()\n",
    "    print(f\"Cross validation score before grid search: {before_grid_search}\")\n",
    "\n",
    "    grid_search = GridSearchCV(model, parameters, cv=cv, scoring='accuracy', return_train_score=True)\n",
    "    grid_search.fit(X, y)\n",
    "    # The best parameters\n",
    "    print(f\"Best parameters: {grid_search.best_params_}\")\n",
    "    # The best score\n",
    "    print(f\"Best score: {grid_search.best_score_}\")\n",
    "\n",
    "    return grid_search, before_grid_search\n",
    "\n",
    "\n",
    "def test_with_cross_validation(model, X, y, cv=10, before_grid_search=0):\n",
    "    # cross validation score after grid search\n",
    "    after_grid_search = cross_val_score(model, X, y, cv=KFold(n_splits=cv, shuffle=True)).mean()\n",
    "    print(f\"Cross validation score after grid search: {after_grid_search}\")\n",
    "    print(f\"Mean cross validation score after optimize: {after_grid_search.mean()}\")\n",
    "    print(f\"Growth of cross validation score: {after_grid_search.mean() - before_grid_search}\")\n",
    "    return after_grid_search\n"
   ]
  },
  {
   "cell_type": "markdown",
   "metadata": {},
   "source": [
    "---\n",
    "# Clinical group\n",
    "## Clinical group description\n",
    "The clinical group contains variables that provide information related to the clinical aspects of patients' health conditions.\n",
    "\n",
    "## Clinical group variables\n",
    "- **DEATH?** [VAR1] - binary - information if the patient is death (1) or alive (0)\n",
    "- **QOL** [VAR4] - number - result of the survey measuring the quality of life (QoL, total score range 0–105, from best to worst)\n",
    "- **OQLsub1** [VAR5] - number - scores for a QoL subscale - physical dimension (8 items, range 0–40  from best to worst)\n",
    "- **OQLsub2** [VAR6] - number - scores for a QoL subscale - emotional dimension (5 items, range 0–25 from best to worst)\n",
    "- **LVEF.0** [VAR13] - number - left ventricular ejection fraction - information from the heart ultrasound reflecting the efficiency of pumping. According to the definition value = 45 or lower is characteristic for systolic heart failure\n",
    "- **NYHA** [VAR14] - category - NYHA Classification\n",
    "- **PM** [VAR15] - binary - information about artificial pacemaker (0=no pacemaker)\n",
    "- **AETH.HF** [VAR16] - binary - information about the clinical cause of heart failure (1=ischemic disease or 2 = other)\n",
    "- **LVEDD** [VAR36] - number - parameter from heart ultrasound: left ventricular end diastolic diameter (increased in heart failure)\n",
    "- **MR** [VAR37] - categories - Mitral regurgitation (valvular heart disease), bigger number = worse\n",
    "- **REST.SBP** [VAR38] - number - systolic blood pressure at rest\n",
    "- **REST.DBP** [VAR39] - number - diastolic blood pressure at rest\n",
    "- **REST.HR** [VAR40] - number - heart rate at rest\n",
    "\n",
    "---\n"
   ]
  },
  {
   "cell_type": "markdown",
   "metadata": {},
   "source": [
    "# Data preparation"
   ]
  },
  {
   "cell_type": "code",
   "execution_count": 15,
   "metadata": {
    "ExecuteTime": {
     "end_time": "2023-06-21T11:06:26.528262Z",
     "start_time": "2023-06-21T11:06:26.378250Z"
    }
   },
   "outputs": [
    {
     "name": "stdout",
     "output_type": "stream",
     "text": [
      "Clinical group columns: Index(['DEATH?', 'QOL', 'OQLsub1', 'OQLsub2', 'LVEF.0', 'NYHA', 'PM',\n",
      "       'AETH.HF', 'LVEDD', 'MR', 'REST.SBP', 'REST.DBP', 'REST.HR'],\n",
      "      dtype='object')\n",
      "Missing values in clinical group: DEATH?       80\n",
      "QOL         209\n",
      "OQLsub1     232\n",
      "OQLsub2     232\n",
      "LVEF.0        4\n",
      "NYHA          0\n",
      "PM           69\n",
      "AETH.HF       4\n",
      "LVEDD       158\n",
      "MR          164\n",
      "REST.SBP    105\n",
      "REST.DBP    105\n",
      "REST.HR     107\n",
      "dtype: int64\n",
      "DEATH? column unique values: [ 0.  1. nan]\n",
      "QOL column unique values: [27. 42.  0. 10.  4. 50. 30. 23.  6. 38.  5. 63. 60. 68. 24. 15. 19. 55.\n",
      " 45. 44. 13. 18. 28. 76. 46. 56. 31. 54. 52. 73. 32. 65.  8. nan 17. 70.\n",
      " 29. 64. 62. 77. 91. 49. 61. 66.  2. 98. 86. 69. 34. 25. 37. 12. 14.  9.\n",
      " 58. 22. 11. 16. 40. 36. 51. 74. 67. 48. 26. 47. 21. 81. 35. 78. 79. 57.\n",
      " 87. 95. 43. 53. 41.  1.  3. 33.]\n",
      "QOL max value: 98.0\n",
      "QOL min value: 0.0\n",
      "OQLsub1 column unique values: [23. 37.  0.  7.  2. 46. 29. 20.  6.  5. 49. 48. 55. 22. 42. 15. 16. 39.\n",
      " 31. 12. 24.  4. 35. 58. 56. 27. 47. 57. 32. 38. 63. nan 17. 28. 21. 45.\n",
      " 40. 60. 50. 67. 66. 59. 80. 54.  9. 44. 14. 13. 11. 19. 33.  8. 36. 10.\n",
      "  3. 52. 53. 64. 18. 25. 41. 26. 51. 34. 30. 62. 68. 61. 76. 74. 43.  1.]\n",
      "OQLsub1 max value: 80.0\n",
      "OQLsub1 min value: 0.0\n",
      "OQLsub2 column unique values: [ 4.  5.  0.  3.  2.  1.  9. 14. 12. 13.  8.  6. 10. 18.  7. 16. nan 15.\n",
      " 25. 19. 20. 11. 29. 26. 24. 22. 21. 17.]\n",
      "OQLsub2 max value: 29.0\n",
      "OQLsub2 min value: 0.0\n",
      "LVEF.0 column unique values: [38. 25. 30. 45. 32. 17. 20. 40. 15. 10. 31. 35. 39. 18. 28. 23. 24. 26.\n",
      " 34. 29. 44. 19. nan 37. 27. 22. 42. 43. 36. 33. 16. 55. 60.]\n",
      "LVEF.0 max value: 60.0\n",
      "LVEF.0 min value: 10.0\n",
      "NYHA column unique values: [2. 1. 3. 4.]\n",
      "PM column unique values: [ 0.  1. nan]\n",
      "AETH.HF column unique values: [ 1.  2. nan]\n",
      "LVEDD column unique values: [ 64.   76.   71.   65.   59.   60.  100.   81.   61.   68.   63.   73.\n",
      "  70.   72.   77.   66.   58.   84.   79.   51.   78.   62.   83.   75.\n",
      "  86.   99.   91.   74.   80.   67.   88.    nan  55.   57.   52.   54.\n",
      "  69.   82.   50.   87.   53.   47.   97.   56.   89.   44.   90.   46.\n",
      "  95.   85.    6.7]\n",
      "LVEDD max value: 100.0\n",
      "LVEDD min value: 6.7\n",
      "MR column unique values: [0.5 1.  2.  0.  3.  2.5 3.5 nan 1.5 4. ]\n",
      "REST.SBP column unique values: [145. 115. 140. 120. 130. 105. 100. 160.  90. 110. 150. 125. 155.  95.\n",
      "  80. 135.  nan 180.  70.  85. 165.]\n",
      "REST.SBP max value: 180.0\n",
      "REST.SBP min value: 70.0\n",
      "REST.DBP column unique values: [100.  70.  80.  75.  60.  90.  85.  95.  65.  50.  nan 105.  40. 110.\n",
      "   5.]\n",
      "REST.DBP max value: 110.0\n",
      "REST.DBP min value: 5.0\n",
      "REST.HR column unique values: [ 72.  70.  64.  60.  68.  78.  80.  92.  56.  76.  84.  85.  52.  88.\n",
      "  nan 100.  96.  48.  75.  62.  94.  45.  95.  74.]\n",
      "REST.HR max value: 100.0\n",
      "REST.HR min value: 45.0\n",
      "Number of missing values after cleaning: DEATH?      0\n",
      "QOL         0\n",
      "OQLsub1     0\n",
      "OQLsub2     0\n",
      "LVEF.0      0\n",
      "NYHA        0\n",
      "PM          0\n",
      "AETH.HF     0\n",
      "LVEDD       0\n",
      "MR          0\n",
      "REST.SBP    0\n",
      "REST.DBP    0\n",
      "REST.HR     0\n",
      "dtype: int64\n"
     ]
    }
   ],
   "source": [
    "# Create clinical group\n",
    "clinical_group = data[groups['clinical']].copy()\n",
    "print(f\"Clinical group columns: {clinical_group.columns}\")\n",
    "print(f\"Missing values in clinical group: {clinical_group.isnull().sum()}\")\n",
    "\n",
    "# Validation of each column\n",
    "\n",
    "# Check DEATH? column (binary)\n",
    "print(f\"DEATH? column unique values: {clinical_group['DEATH?'].unique()}\")\n",
    "# Set all missing values to 0\n",
    "clinical_group['DEATH?'] = clinical_group['DEATH?'].fillna(0)\n",
    "\n",
    "# Check QOL column (number 0-105)\n",
    "print(f\"QOL column unique values: {clinical_group['QOL'].unique()}\")\n",
    "print(f\"QOL max value: {clinical_group['QOL'].max()}\")\n",
    "print(f\"QOL min value: {clinical_group['QOL'].min()}\")\n",
    "# Set all values bigger than 105 to 105\n",
    "clinical_group.loc[clinical_group['QOL'] > 105, 'QOL'] = 105\n",
    "# Set all missing values with backward fill or forward fill\n",
    "clinical_group['QOL'] = clinical_group['QOL'].fillna(method='bfill')\n",
    "clinical_group['QOL'] = clinical_group['QOL'].fillna(method='ffill')\n",
    "\n",
    "# Check OQLsub1 column (number 0-40)\n",
    "print(f\"OQLsub1 column unique values: {clinical_group['OQLsub1'].unique()}\")\n",
    "print(f\"OQLsub1 max value: {clinical_group['OQLsub1'].max()}\")\n",
    "print(f\"OQLsub1 min value: {clinical_group['OQLsub1'].min()}\")\n",
    "# Change all values bigger than 40 to 40\n",
    "clinical_group.loc[clinical_group['OQLsub1'] > 40, 'OQLsub1'] = 40\n",
    "# Set all missing values with backward fill or forward fill\n",
    "clinical_group['OQLsub1'] = clinical_group['OQLsub1'].fillna(method='bfill')\n",
    "clinical_group['OQLsub1'] = clinical_group['OQLsub1'].fillna(method='ffill')\n",
    "\n",
    "# Check OQLsub2 column (number 0-25)\n",
    "print(f\"OQLsub2 column unique values: {clinical_group['OQLsub2'].unique()}\")\n",
    "print(f\"OQLsub2 max value: {clinical_group['OQLsub2'].max()}\")\n",
    "print(f\"OQLsub2 min value: {clinical_group['OQLsub2'].min()}\")\n",
    "# Change all values bigger than 25 to 25\n",
    "clinical_group.loc[clinical_group['OQLsub2'] > 25, 'OQLsub2'] = 25\n",
    "# Set all missing values with backward fill or forward fill\n",
    "clinical_group['OQLsub2'] = clinical_group['OQLsub2'].fillna(method='bfill')\n",
    "clinical_group['OQLsub2'] = clinical_group['OQLsub2'].fillna(method='ffill')\n",
    "\n",
    "# Check LVEF.0 column (number)\n",
    "print(f\"LVEF.0 column unique values: {clinical_group['LVEF.0'].unique()}\")\n",
    "print(f\"LVEF.0 max value: {clinical_group['LVEF.0'].max()}\")\n",
    "print(f\"LVEF.0 min value: {clinical_group['LVEF.0'].min()}\")\n",
    "# Set all missing values with backward fill\n",
    "clinical_group['LVEF.0'] = clinical_group['LVEF.0'].fillna(method='bfill')\n",
    "\n",
    "# Check NYHA column (categories)\n",
    "print(f\"NYHA column unique values: {clinical_group['NYHA'].unique()}\")\n",
    "\n",
    "# Check PM column (binary)\n",
    "print(f\"PM column unique values: {clinical_group['PM'].unique()}\")\n",
    "# Set all missing values to 0\n",
    "clinical_group['PM'] = clinical_group['PM'].fillna(0)\n",
    "\n",
    "# Check AETH.HF column (binary)\n",
    "print(f\"AETH.HF column unique values: {clinical_group['AETH.HF'].unique()}\")\n",
    "# Decrease all values by 1\n",
    "clinical_group['AETH.HF'] = clinical_group['AETH.HF'] - 1\n",
    "# Set all missing values to 0\n",
    "clinical_group['AETH.HF'] = clinical_group['AETH.HF'].fillna(0)\n",
    "\n",
    "# Check LVEDD column (number)\n",
    "print(f\"LVEDD column unique values: {clinical_group['LVEDD'].unique()}\")\n",
    "print(f\"LVEDD max value: {clinical_group['LVEDD'].max()}\")\n",
    "print(f\"LVEDD min value: {clinical_group['LVEDD'].min()}\")\n",
    "# Set all missing values with backward fill\n",
    "clinical_group['LVEDD'] = clinical_group['LVEDD'].fillna(method='bfill')\n",
    "\n",
    "# Check MR column (categories)\n",
    "print(f\"MR column unique values: {clinical_group['MR'].unique()}\")\n",
    "# Set all missing values to the most frequent value\n",
    "clinical_group['MR'] = clinical_group['MR'].fillna(clinical_group['MR'].mode()[0])\n",
    "\n",
    "# Check REST.SBP column (number)\n",
    "print(f\"REST.SBP column unique values: {clinical_group['REST.SBP'].unique()}\")\n",
    "print(f\"REST.SBP max value: {clinical_group['REST.SBP'].max()}\")\n",
    "print(f\"REST.SBP min value: {clinical_group['REST.SBP'].min()}\")\n",
    "# Set all missing values with backward fill\n",
    "clinical_group['REST.SBP'] = clinical_group['REST.SBP'].fillna(method='bfill')\n",
    "\n",
    "# Check REST.DBP column (number)\n",
    "print(f\"REST.DBP column unique values: {clinical_group['REST.DBP'].unique()}\")\n",
    "print(f\"REST.DBP max value: {clinical_group['REST.DBP'].max()}\")\n",
    "print(f\"REST.DBP min value: {clinical_group['REST.DBP'].min()}\")\n",
    "# Set all missing values with backward fill\n",
    "clinical_group['REST.DBP'] = clinical_group['REST.DBP'].fillna(method='bfill')\n",
    "\n",
    "# Check REST.HR column (number)\n",
    "print(f\"REST.HR column unique values: {clinical_group['REST.HR'].unique()}\")\n",
    "print(f\"REST.HR max value: {clinical_group['REST.HR'].max()}\")\n",
    "print(f\"REST.HR min value: {clinical_group['REST.HR'].min()}\")\n",
    "# Set all missing values with backward fill\n",
    "clinical_group['REST.HR'] = clinical_group['REST.HR'].fillna(method='bfill')\n",
    "\n",
    "# Number of missing values after cleaning\n",
    "print(f\"Number of missing values after cleaning: {clinical_group.isnull().sum()}\")"
   ]
  },
  {
   "cell_type": "code",
   "execution_count": null,
   "metadata": {
    "ExecuteTime": {
     "end_time": "2023-06-20T18:18:39.745110Z",
     "start_time": "2023-06-20T18:16:36.423731Z"
    },
    "pycharm": {
     "is_executing": true
    }
   },
   "outputs": [
    {
     "data": {
      "image/png": "[encoded data removed]",
      "text/plain": [
       "<Figure size 1000x1000 with 2 Axes>"
      ]
     },
     "metadata": {},
     "output_type": "display_data"
    },
    {
     "name": "stdout",
     "output_type": "stream",
     "text": [
      "          correlation  missing_values  importance\n",
      "QOL          0.379008               0    0.148958\n",
      "OQLsub1      0.333027               0    0.053248\n",
      "DEATH?       0.283967               0    0.037340\n",
      "MR           0.272725               0    0.077251\n",
      "LVEF.0       0.189337               0    0.150666\n",
      "REST.SBP     0.156368               0    0.077282\n",
      "OQLsub2      0.153981               0    0.025174\n",
      "REST.DBP     0.138919               0    0.080358\n",
      "LVEDD        0.127758               0    0.131470\n",
      "PM           0.124848               0    0.016977\n",
      "AETH.HF      0.109894               0    0.063212\n",
      "REST.HR      0.097181               0    0.138064\n"
     ]
    },
    {
     "data": {
      "image/png": "[encoded data removed]",
      "text/plain": [
       "<Figure size 600x600 with 1 Axes>"
      ]
     },
     "metadata": {},
     "output_type": "display_data"
    },
    {
     "data": {
      "image/png": "[encoded data removed]",
      "text/plain": [
       "<Figure size 600x600 with 1 Axes>"
      ]
     },
     "metadata": {},
     "output_type": "display_data"
    },
    {
     "data": {
      "image/png": "[encoded data removed]",
      "text/plain": [
       "<Figure size 600x600 with 1 Axes>"
      ]
     },
     "metadata": {},
     "output_type": "display_data"
    },
    {
     "data": {
      "image/png": "[encoded data removed]",
      "text/plain": [
       "<Figure size 600x600 with 2 Axes>"
      ]
     },
     "metadata": {},
     "output_type": "display_data"
    },
    {
     "data": {
      "image/png": "[encoded data removed]",
      "text/plain": [
       "<Figure size 600x600 with 2 Axes>"
      ]
     },
     "metadata": {},
     "output_type": "display_data"
    },
    {
     "name": "stdout",
     "output_type": "stream",
     "text": [
      "Cross validation score before grid search: 0.4695652173913043\n"
     ]
    }
   ],
   "source": [
    "corr_matrix = clinical_group.corr()\n",
    "# Plot correlation chart\n",
    "plot_corr_matrix(clinical_group, 'Correlation matrix for clinical group', (10, 10))\n",
    "\n",
    "# Prepare data with correlation, missing values and importance\n",
    "group_checking = prepare_group_checking(clinical_group)\n",
    "\n",
    "# Prepare data for Decision Tree Classifier\n",
    "X = clinical_group.drop(columns=['NYHA'])\n",
    "y = clinical_group['NYHA']\n",
    "\n",
    "model = DecisionTreeClassifier()\n",
    "model.fit(X, y)\n",
    "feature_importances = model.feature_importances_\n",
    "\n",
    "group_checking = add_importance_to_group_checking(group_checking, feature_importances, X)\n",
    "group_checking = convert_group_checking_to_dataframe(group_checking)\n",
    "print(group_checking)\n",
    "\n",
    "# Print boxplots for variables 'LVEF.0','QOL', 'OQLsub1'\n",
    "box_plots = ['LVEF.0', 'QOL', 'OQLsub1']\n",
    "for column in box_plots:\n",
    "    plot_boxplot(clinical_group, column, (6, 6), y=column)\n",
    "\n",
    "# Remove column with correlation lower than 0.15\n",
    "columns_to_remove = group_checking[group_checking['correlation'] < 0.18].index\n",
    "clinical_group = clinical_group.drop(columns=columns_to_remove)\n",
    "\n",
    "plot_corr_matrix(clinical_group,\n",
    "                 'Correlation matrix for clinical group after removing columns with correlation lower than 0.15',\n",
    "                 (6, 6))\n",
    "\n",
    "# Remove QOL and OQLsub2 columns - they are highly correlated with OQLsub1\n",
    "columns_to_remove = ['QOL']\n",
    "clinical_group = clinical_group.drop(columns=columns_to_remove)\n",
    "\n",
    "# Additionally remove LVEDD and MR columns\n",
    "# columns_to_remove = ['LVEDD', 'MR']\n",
    "# clinical_group = clinical_group.drop(columns=columns_to_remove)\n",
    "\n",
    "plot_corr_matrix(clinical_group, 'Correlation matrix for clinical group after removing columns', (6, 6))\n",
    "\n",
    "X = clinical_group.drop(columns=['NYHA'])\n",
    "y = clinical_group['NYHA']\n",
    "model = DecisionTreeClassifier()\n",
    "model.fit(X, y)\n",
    "\n",
    "grid_search, before_grid_search = create_grid_search(model, X, y)\n",
    "clinical_model = grid_search.best_estimator_\n",
    "\n",
    "test_with_cross_validation(clinical_model, X, y, before_grid_search=before_grid_search)\n",
    "print_feature_importances(clinical_model.feature_importances_, X)"
   ]
  },
  {
   "cell_type": "markdown",
   "metadata": {},
   "source": [
    "# Conclusion from clinical group:\n",
    "From the above table we can see that the most important variables are:\n",
    "- OQLsub1 - left ventricular ejection fraction - information from the heart ultrasound reflecting the efficiency of pumping. According to the definition value = 45 or lower is characteristic for systolic heart failure.\n",
    "- LVEF.0 - left ventricular ejection fraction\n",
    "- MR - mitral regurgitation - information from the heart ultrasound reflecting the efficiency of pumping. According to the definition value = 45 or lower is characteristic for systolic heart failure.\n",
    "- DEATH? - information about the patient's death\n",
    "From this group we choose QOL and LVEF.0 variables as discriminative variables. And replace missing values with mean value."
   ]
  },
  {
   "cell_type": "markdown",
   "metadata": {},
   "source": [
    "---\n",
    "# Technical group\n",
    "## Technical group description\n",
    "The technical group contains variables that are not directly related to the patient's health. These are variables such as the date of the examination, the date of death, the date of birth, etc.\n",
    "\n",
    "## Technical group variables\n",
    "**DEATHDATE** [VAR2] - date - date of death (if death=1) or date of the confirmation that the patient is still alive\n",
    "**TIMEFU** [VAR3] - number - number of days between examination and date death or  date of the confirmation that the patient is still alive\n",
    "**DOB** [VAR7] - date - date of birth\n",
    "**DOE** [VAR8] - date - date of the examination\n",
    "\n",
    "---"
   ]
  },
  {
   "cell_type": "markdown",
   "metadata": {},
   "source": [
    "# Data preparation"
   ]
  },
  {
   "cell_type": "code",
   "execution_count": null,
   "metadata": {
    "ExecuteTime": {
     "end_time": "2023-06-20T18:18:39.760492Z",
     "start_time": "2023-06-20T18:18:39.747109Z"
    },
    "pycharm": {
     "is_executing": true
    }
   },
   "outputs": [],
   "source": [
    "technical_group = data[groups['technical']].copy()\n",
    "\n",
    "# Print columns\n",
    "print(f\"Technical group columns: {technical_group.columns}\")\n",
    "print(f\"Missing values: {technical_group.isnull().sum()}\")\n",
    "\n",
    "# Validation of each column\n",
    "\n",
    "# Check DEATHDATE column (date)\n",
    "print(f\"Type of DEATHDATE column: {technical_group['DEATHDATE'].dtypes}\")\n",
    "print(f\"DEATHDATE column unique values: {technical_group['DEATHDATE'].unique()}\")\n",
    "# Set all missing values with backward fill\n",
    "technical_group['DEATHDATE'] = technical_group['DEATHDATE'].fillna(method='bfill')\n",
    "\n",
    "# Check TIMEFU column (number)\n",
    "print(f\"Type of column TIMEFU: {technical_group['TIMEFU'].dtypes}\")\n",
    "print(f\"TIMEFU column unique values: {technical_group['TIMEFU'].unique()}\")\n",
    "# Set incorrect string values to NaN\n",
    "technical_group[\"TIMEFU\"] = technical_group[\"TIMEFU\"].apply(lambda x: np.nan if type(x) == str else x)\n",
    "# Set all missing values with backward fill\n",
    "technical_group[\"TIMEFU\"] = technical_group[\"TIMEFU\"].fillna(method='bfill')\n",
    "\n",
    "# Check DOE column (date)\n",
    "print(f\"Type of DOE column: {technical_group['DOE'].dtypes}\")\n",
    "print(f\"DOE column unique values: {technical_group['DOE'].unique()}\")\n",
    "# Set all missing values with backward fill\n",
    "technical_group['DOE'] = technical_group['DOE'].fillna(method='bfill')\n",
    "\n",
    "# Check DOB column (date)\n",
    "print(f\"Type of DOB column: {technical_group['DOB'].dtypes}\")\n",
    "print(f\"DOB column unique values: {technical_group['DOB'].unique()}\")\n",
    "# Set all missing values with backward fill\n",
    "technical_group['DOB'] = technical_group['DOB'].fillna(method='bfill')\n",
    "\n",
    "# Add NYHA target variable\n",
    "technical_group['NYHA'] = NYHA"
   ]
  },
  {
   "cell_type": "code",
   "execution_count": null,
   "metadata": {
    "ExecuteTime": {
     "end_time": "2023-06-20T18:18:39.978988Z",
     "start_time": "2023-06-20T18:18:39.761491Z"
    },
    "pycharm": {
     "is_executing": true
    }
   },
   "outputs": [],
   "source": [
    "plot_corr_matrix(technical_group, 'Correlation matrix for technical group', (6, 6))\n",
    "\n",
    "# Print together corelation values for NYHA target variable with number of missing values\n",
    "checking_data = prepare_group_checking(technical_group)\n",
    "checking_data = convert_group_checking_to_dataframe(checking_data, columns=['correlation', 'missing_values'])\n",
    "print(checking_data)"
   ]
  },
  {
   "cell_type": "markdown",
   "metadata": {},
   "source": [
    "## Conclusion from technical group:\n",
    "From the above table we don't see any variable with high correlation with NYHA target variable. So we will not use any variable from this group."
   ]
  },
  {
   "cell_type": "markdown",
   "metadata": {},
   "source": [
    "---\n",
    "# Demographic group\n",
    "## Demographic group description\n",
    "The group contains only one variable - age.\n",
    "\n",
    "## Demographic group variables\n",
    "**AGE** [VAR9] - number - age at examination\n",
    "\n",
    "---"
   ]
  },
  {
   "cell_type": "markdown",
   "metadata": {},
   "source": [
    "# Data preparation"
   ]
  },
  {
   "cell_type": "code",
   "execution_count": null,
   "metadata": {
    "ExecuteTime": {
     "end_time": "2023-06-20T18:18:40.087327Z",
     "start_time": "2023-06-20T18:18:39.981770Z"
    },
    "pycharm": {
     "is_executing": true
    }
   },
   "outputs": [],
   "source": [
    "demographic_group = data[groups['demographic']].copy()\n",
    "print(f\"Demographic group columns: {demographic_group.columns}\")\n",
    "print(f\"Missing values: {demographic_group.isnull().sum()}\")\n",
    "\n",
    "# Validation of each column\n",
    "\n",
    "# Check AGE column (number)\n",
    "print(f\"Type of AGE column: {demographic_group['AGE'].dtypes}\")\n",
    "print(f\"AGE column unique values: {demographic_group['AGE'].unique()}\")\n",
    "# Round age to integer\n",
    "demographic_group['AGE'] = demographic_group['AGE'].round()\n",
    "# Set all missing values with backward fill\n",
    "demographic_group['AGE'] = demographic_group['AGE'].fillna(method='bfill')\n",
    "# Change type of AGE column to int\n",
    "demographic_group['AGE'] = demographic_group['AGE'].astype(int)\n",
    "\n",
    "# Add NYHA target variable\n",
    "demographic_group['NYHA'] = NYHA"
   ]
  },
  {
   "cell_type": "code",
   "execution_count": null,
   "metadata": {
    "ExecuteTime": {
     "end_time": "2023-06-20T18:18:40.295162Z",
     "start_time": "2023-06-20T18:18:39.996125Z"
    },
    "pycharm": {
     "is_executing": true
    }
   },
   "outputs": [],
   "source": [
    "# Print correlation chart\n",
    "plot_corr_matrix(demographic_group, 'Correlation matrix for demographic group', (3, 3))\n",
    "\n",
    "# Print boxplot for NYHA and AGE\n",
    "plot_boxplot(demographic_group, 'NYHA', (3, 3), x='NYHA', y='AGE')"
   ]
  },
  {
   "cell_type": "markdown",
   "metadata": {},
   "source": [
    "# Conclusion from demographic group:\n",
    "We choose AGE variable as discriminative variable. And replace missing values with mean value."
   ]
  },
  {
   "cell_type": "markdown",
   "metadata": {},
   "source": [
    "---\n",
    "# Antrhopometric group\n",
    "## Antrhopometric group description\n",
    "The group contains variables related to the patient's body mass and height.\n",
    "\n",
    "## Antrhopometric group variables\n",
    "**HEIGHT.CM** [VAR10] - number - body height in cm\n",
    "**WEIGHT.KG** [VAR11] - number - body mass in kg\n",
    "**BMI** [VAR12] - number - body mass index (mass per squared height); <18.5=underweight range, 18.5 to <25 = normal, 25 - <30 = overweight, 30.0 or higher = obese.\n",
    "\n",
    "---"
   ]
  },
  {
   "cell_type": "markdown",
   "metadata": {},
   "source": [
    "# Data preparation"
   ]
  },
  {
   "cell_type": "code",
   "execution_count": null,
   "metadata": {
    "ExecuteTime": {
     "end_time": "2023-06-20T18:18:40.370289Z",
     "start_time": "2023-06-20T18:18:40.296160Z"
    },
    "pycharm": {
     "is_executing": true
    }
   },
   "outputs": [],
   "source": [
    "# Create anthropometric group\n",
    "anthropometric_group = data[groups['anthropometry']].copy()\n",
    "print(f\"Anthropometry group columns: {anthropometric_group.columns}\")\n",
    "print(f\"Mising values: {anthropometric_group.isnull().sum()}\")\n",
    "\n",
    "# Validation of each column\n",
    "\n",
    "# Check HEIGHT.CM column (number)\n",
    "print(f\"Type of HEIGHT.CM column: {anthropometric_group['HEIGHT.CM'].dtypes}\")\n",
    "# print(f\"HEIGHT.CM column unique values: {anthropometric_group['HEIGHT.CM'].unique()}\")\n",
    "print(f\"Max value of HEIGHT.CM column: {anthropometric_group['HEIGHT.CM'].max()}\")\n",
    "print(f\"Min value of HEIGHT.CM column: {anthropometric_group['HEIGHT.CM'].min()}\")\n",
    "\n",
    "# Check WEIGHT.KG column (number)\n",
    "print(f\"Type of WEIGHT.KG column: {anthropometric_group['WEIGHT.KG'].dtypes}\")\n",
    "# print(f\"WEIGHT.KG column unique values: {anthropometric_group['WEIGHT.KG'].unique()}\")\n",
    "print(f\"Max value of WEIGHT.KG column: {anthropometric_group['WEIGHT.KG'].max()}\")\n",
    "print(f\"Min value of WEIGHT.KG column: {anthropometric_group['WEIGHT.KG'].min()}\")\n",
    "\n",
    "# Check BMI column (number)\n",
    "print(f\"Type of BMI column: {anthropometric_group['BMI'].dtypes}\")\n",
    "# print(f\"BMI column unique values: {anthropometric_group['BMI'].unique()}\")\n",
    "print(f\"Max value of BMI column: {anthropometric_group['BMI'].max()}\")\n",
    "print(f\"Min value of BMI column: {anthropometric_group['BMI'].min()}\")\n",
    "\n",
    "# Add NYHA target variable\n",
    "anthropometric_group['NYHA'] = NYHA"
   ]
  },
  {
   "cell_type": "code",
   "execution_count": null,
   "metadata": {
    "ExecuteTime": {
     "end_time": "2023-06-20T18:18:40.497053Z",
     "start_time": "2023-06-20T18:18:40.309682Z"
    },
    "pycharm": {
     "is_executing": true
    }
   },
   "outputs": [],
   "source": [
    "plot_corr_matrix(anthropometric_group, 'Correlation matrix for anthropometric group', (5, 5))\n",
    "\n",
    "# Print together corelation values for NYHA target variable with number of missing values\n",
    "group_checking = prepare_group_checking(anthropometric_group)\n",
    "group_checking = convert_group_checking_to_dataframe(group_checking, columns=['correlation', 'missing_values'])\n",
    "print(group_checking)"
   ]
  },
  {
   "cell_type": "markdown",
   "metadata": {},
   "source": [
    "# Conclusion from anthropometric group:\n",
    "From the above table we don't see any variable with high correlation with NYHA target variable. So we will not use any variable from this group."
   ]
  },
  {
   "cell_type": "markdown",
   "metadata": {},
   "source": [
    "---\n",
    "# Comorbidities group\n",
    "## Comorbidities group description\n",
    "The group contains variables related to the patient's comorbidities.\n",
    "\n",
    "## Comorbidities group variables\n",
    "**MI** [VAR17] - binary - information about previous myocardial infarction (1=yes)\n",
    "**AF** [VAR18] - binary - information about atrial fibrillation (1=yes)\n",
    "**DM** [VAR19] - binary - information about diabetes (1=yes)\n",
    "**HT** [VAR20] - binary - information about hypertension (1=yes)\n",
    "**COPD** [VAR21] - binary - information about lung  disease (1=yes)\n",
    "**STROKE** [VAR22] - binary - information about previous stroke (1=yes)\n",
    "**KIDNEY.DIS** [VAR23] - binary - information about kidney disease (1=yes)\n",
    "\n",
    "---"
   ]
  },
  {
   "cell_type": "markdown",
   "metadata": {},
   "source": [
    "# Data preparation"
   ]
  },
  {
   "cell_type": "code",
   "execution_count": null,
   "metadata": {
    "ExecuteTime": {
     "end_time": "2023-06-20T18:18:40.513816Z",
     "start_time": "2023-06-20T18:18:40.500569Z"
    },
    "pycharm": {
     "is_executing": true
    }
   },
   "outputs": [],
   "source": [
    "# Create comorbidities group\n",
    "comorbidities_group = data[groups['comorbidities']].copy()\n",
    "print(f\"Comorbidities group columns: {comorbidities_group.columns}\")\n",
    "print(f\"Mising values: {comorbidities_group.isnull().sum()}\")\n",
    "\n",
    "# Validation of each column\n",
    "\n",
    "# Check MI column (binary)\n",
    "print(f\"Type of MI column: {comorbidities_group['MI'].dtypes}\")\n",
    "print(f\"MI column unique values: {comorbidities_group['MI'].unique()}\")\n",
    "# Set all missing values with 0 (no comorbidity)\n",
    "comorbidities_group['MI'] = comorbidities_group['MI'].fillna(0)\n",
    "\n",
    "# Check AF column (binary)\n",
    "print(f\"Type of AF column: {comorbidities_group['AF'].dtypes}\")\n",
    "print(f\"AF column unique values: {comorbidities_group['AF'].unique()}\")\n",
    "# Set all missing values with 0 (no comorbidity)\n",
    "comorbidities_group['AF'] = comorbidities_group['AF'].fillna(0)\n",
    "\n",
    "# Check DM column (binary)\n",
    "print(f\"Type of DM column: {comorbidities_group['DM'].dtypes}\")\n",
    "print(f\"DM column unique values: {comorbidities_group['DM'].unique()}\")\n",
    "# Set all missing values with 0 (no comorbidity)\n",
    "comorbidities_group['DM'] = comorbidities_group['DM'].fillna(0)\n",
    "\n",
    "# Check HT column (binary)\n",
    "print(f\"Type of HT column: {comorbidities_group['HT'].dtypes}\")\n",
    "print(f\"HT column unique values: {comorbidities_group['HT'].unique()}\")\n",
    "# Set all missing values with 0 (no comorbidity)\n",
    "comorbidities_group['HT'] = comorbidities_group['HT'].fillna(0)\n",
    "\n",
    "# Check COPD column (binary)\n",
    "print(f\"Type of COPD column: {comorbidities_group['COPD'].dtypes}\")\n",
    "print(f\"COPD column unique values: {comorbidities_group['COPD'].unique()}\")\n",
    "# Set all missing values with 0 (no comorbidity)\n",
    "comorbidities_group['COPD'] = comorbidities_group['COPD'].fillna(0)\n",
    "\n",
    "# Check STROKE column (binary)\n",
    "print(f\"Type of STROKE column: {comorbidities_group['STROKE'].dtypes}\")\n",
    "print(f\"STROKE column unique values: {comorbidities_group['STROKE'].unique()}\")\n",
    "# Set all missing values with 0 (no comorbidity)\n",
    "comorbidities_group['STROKE'] = comorbidities_group['STROKE'].fillna(0)\n",
    "\n",
    "# Check KIDNEY.DIS column (binary)\n",
    "print(f\"Type of KIDNEY.DIS column: {comorbidities_group['KIDNEY.DIS'].dtypes}\")\n",
    "print(f\"KIDNEY.DIS column unique values: {comorbidities_group['KIDNEY.DIS'].unique()}\")\n",
    "# Set all missing values with 0 (no comorbidity)\n",
    "comorbidities_group['KIDNEY.DIS'] = comorbidities_group['KIDNEY.DIS'].fillna(0)\n",
    "\n",
    "# Add NYHA target variable\n",
    "comorbidities_group['NYHA'] = NYHA"
   ]
  },
  {
   "cell_type": "code",
   "execution_count": null,
   "metadata": {
    "ExecuteTime": {
     "end_time": "2023-06-20T18:20:41.340450Z",
     "start_time": "2023-06-20T18:18:40.516445Z"
    },
    "pycharm": {
     "is_executing": true
    }
   },
   "outputs": [],
   "source": [
    "# Print correlation chart\n",
    "plot_corr_matrix(comorbidities_group, 'Correlation matrix for comorbidities group', (6, 6))\n",
    "\n",
    "group_checking = prepare_group_checking(comorbidities_group)\n",
    "\n",
    "# Print together corelation values for NYHA target variable with number of missing values\n",
    "X = comorbidities_group.drop(columns=['NYHA'])\n",
    "y = comorbidities_group['NYHA']\n",
    "model = DecisionTreeClassifier()\n",
    "model.fit(X, y)\n",
    "\n",
    "group_checking = add_importance_to_group_checking(group_checking, model.feature_importances_, X)\n",
    "group_checking = convert_group_checking_to_dataframe(group_checking)\n",
    "print(group_checking)\n",
    "\n",
    "# Remove columns with correlation less than 0.15\n",
    "columns_to_remove = group_checking[group_checking['correlation'] < 0.15].index\n",
    "print(f\"Columns to remove: {columns_to_remove}\")\n",
    "print(f\"Columns before removing: {comorbidities_group.columns}\")\n",
    "comorbidities_group = comorbidities_group.drop(columns=columns_to_remove)\n",
    "\n",
    "plot_corr_matrix(comorbidities_group, 'Correlation matrix for clinical group after removing columns', (6, 6))\n",
    "\n",
    "X = comorbidities_group.drop(columns=['NYHA'])\n",
    "y = comorbidities_group['NYHA']\n",
    "model = DecisionTreeClassifier()\n",
    "model.fit(X, y)\n",
    "\n",
    "grid_search, before_grid_search = create_grid_search(model, X, y)\n",
    "comorbidities_model = grid_search.best_estimator_\n",
    "\n",
    "test_with_cross_validation(comorbidities_model, X, y, before_grid_search=before_grid_search)\n",
    "print_feature_importances(comorbidities_model.feature_importances_, X)"
   ]
  },
  {
   "cell_type": "markdown",
   "metadata": {},
   "source": [
    "# Conclusion from comorbidities group:\n",
    "From the above table we can see that the most important variables are:\n",
    "- AF - atrial fibrillation (migotanie przedsionków)\n",
    "- KIDNEY.DIS - kidney disease (choroba nerek)\n",
    "- DM - diabetes mellitus (cukrzyca)"
   ]
  },
  {
   "cell_type": "markdown",
   "metadata": {},
   "source": [
    "---\n",
    "# Treatment group\n",
    "\n",
    "## Treatment group description\n",
    "The treatment group contains information about treatment of patients.\n",
    "\n",
    "## Treatment group variables\n",
    "- **ACEI.ARB** [VAR24] - binary - information about treatment using ace-inhibitors or ARB (similar drugs, 1=yes)\n",
    "- **BB** [VAR25] - binary - information about treatment using beta blockers (1=yes)\n",
    "- **MRA** [VAR26] - binary - information about treatment using  aldosterone antagonists (1=yes)\n",
    "- **DIUR** [VAR27] - binary - information about treatment using oral diuretics (1=yes)\n",
    "- **ANTIPLAT** [VAR28] - binary - information about treatment using antiplatelet drugs (1=yes)\n",
    "- **STATIN** [VAR29] - binary - information about treatment using statin (1=yes)\n",
    "- **DIGOX** [VAR30] - binary - information about treatment using digoxin (1=yes)\n",
    "\n",
    "---"
   ]
  },
  {
   "cell_type": "markdown",
   "metadata": {},
   "source": [
    "# Data preparation"
   ]
  },
  {
   "cell_type": "code",
   "execution_count": null,
   "metadata": {
    "ExecuteTime": {
     "end_time": "2023-06-20T18:20:41.340450Z",
     "start_time": "2023-06-20T18:20:41.308176Z"
    },
    "pycharm": {
     "is_executing": true
    }
   },
   "outputs": [],
   "source": [
    "# Create treatment group\n",
    "treatment_group = data[groups['treatment']].copy()\n",
    "print(f\"Treatment group columns: {treatment_group.columns}\")\n",
    "print(f\"Missing values: {treatment_group.isnull().sum()}\")\n",
    "\n",
    "# Validation of each column\n",
    "\n",
    "# Check ACEI.ARB column (binary)\n",
    "print(f\"Type of ACEI.ARB column: {treatment_group['ACEI.ARB'].dtypes}\")\n",
    "print(f\"ACEI.ARB column unique values: {treatment_group['ACEI.ARB'].unique()}\")\n",
    "# Set all missing values with 0 (no treatment)\n",
    "treatment_group['ACEI.ARB'] = treatment_group['ACEI.ARB'].fillna(0)\n",
    "\n",
    "# Check BB column (binary)\n",
    "print(f\"Type of BB column: {treatment_group['BB'].dtypes}\")\n",
    "print(f\"BB column unique values: {treatment_group['BB'].unique()}\")\n",
    "# Set all missing values with 0 (no treatment)\n",
    "treatment_group['BB'] = treatment_group['BB'].fillna(0)\n",
    "\n",
    "# Check MRA column (binary)\n",
    "print(f\"Type of MRA column: {treatment_group['MRA'].dtypes}\")\n",
    "print(f\"MRA column unique values: {treatment_group['MRA'].unique()}\")\n",
    "# Set all missing values with 0 (no treatment)\n",
    "treatment_group['MRA'] = treatment_group['MRA'].fillna(0)\n",
    "\n",
    "# Check DIUR column (binary)\n",
    "print(f\"Type of DIUR column: {treatment_group['DIUR'].dtypes}\")\n",
    "print(f\"DIUR column unique values: {treatment_group['DIUR'].unique()}\")\n",
    "# Set all missing values with 0 (no treatment)\n",
    "treatment_group['DIUR'] = treatment_group['DIUR'].fillna(0)\n",
    "\n",
    "# Check ANTIPLAT column (binary)\n",
    "print(f\"Type of ANTIPLAT column: {treatment_group['ANTIPLAT'].dtypes}\")\n",
    "print(f\"ANTIPLAT column unique values: {treatment_group['ANTIPLAT'].unique()}\")\n",
    "# Set all missing values with 0 (no treatment)\n",
    "treatment_group['ANTIPLAT'] = treatment_group['ANTIPLAT'].fillna(0)\n",
    "\n",
    "# Check STATIN column (binary)\n",
    "print(f\"Type of STATIN column: {treatment_group['STATIN'].dtypes}\")\n",
    "print(f\"STATIN column unique values: {treatment_group['STATIN'].unique()}\")\n",
    "# Set all missing values with 0 (no treatment)\n",
    "treatment_group['STATIN'] = treatment_group['STATIN'].fillna(0)\n",
    "\n",
    "# Check DIGOX column (binary)\n",
    "print(f\"Type of DIGOX column: {treatment_group['DIGOX'].dtypes}\")\n",
    "print(f\"DIGOX column unique values: {treatment_group['DIGOX'].unique()}\")\n",
    "# In DIGOX we have additional value 9.0 - unknown so we replace it with 0\n",
    "treatment_group['DIGOX'] = treatment_group['DIGOX'].replace(9.0, 0)\n",
    "print(f\"DIGOX column unique values: {treatment_group['DIGOX'].unique()}\")\n",
    "# Set all missing values with 0 (no treatment)\n",
    "treatment_group['DIGOX'] = treatment_group['DIGOX'].fillna(0)\n",
    "\n",
    "# Check if there are any missing values\n",
    "print(f\"Missing values: {treatment_group.isnull().sum()}\")\n",
    "\n",
    "# Add NYHA target variable\n",
    "treatment_group['NYHA'] = NYHA"
   ]
  },
  {
   "cell_type": "code",
   "execution_count": null,
   "metadata": {
    "ExecuteTime": {
     "end_time": "2023-06-20T18:22:43.584288Z",
     "start_time": "2023-06-20T18:20:41.321838Z"
    },
    "pycharm": {
     "is_executing": true
    }
   },
   "outputs": [],
   "source": [
    "# Correlation matrix\n",
    "plot_corr_matrix(treatment_group, 'Correlation matrix for treatment group', (5, 5))\n",
    "\n",
    "group_checking = prepare_group_checking(treatment_group)\n",
    "\n",
    "# Find important variables and replace all missing values with 0 (no treatment)\n",
    "treatment_group = treatment_group.fillna(0)\n",
    "\n",
    "# Prepare data for Decision Tree Classifier\n",
    "X = treatment_group.drop(columns=['NYHA'])\n",
    "y = treatment_group['NYHA']\n",
    "model = DecisionTreeClassifier()\n",
    "model.fit(X, y)\n",
    "group_checking = add_importance_to_group_checking(group_checking, model.feature_importances_, X)\n",
    "group_checking = convert_group_checking_to_dataframe(group_checking)\n",
    "print(group_checking)\n",
    "\n",
    "# Remove columns with correlation less than 0.05\n",
    "columns_to_remove = group_checking[group_checking['correlation'] < 0.20].index\n",
    "treatment_group = treatment_group.drop(columns=columns_to_remove)\n",
    "\n",
    "plot_corr_matrix(treatment_group, 'Correlation matrix for treatment group after removing columns', (5, 5))\n",
    "\n",
    "X = treatment_group.drop(columns=['NYHA'])\n",
    "y = treatment_group['NYHA']\n",
    "model = DecisionTreeClassifier()\n",
    "model.fit(X, y)\n",
    "\n",
    "grid_search, before_grid_search = create_grid_search(model, X, y)\n",
    "treatment_model = grid_search.best_estimator_\n",
    "\n",
    "test_with_cross_validation(treatment_model, X, y, before_grid_search=before_grid_search)\n",
    "print_feature_importances(treatment_model.feature_importances_, X)"
   ]
  },
  {
   "cell_type": "markdown",
   "metadata": {},
   "source": [
    "# Conclusion from treatment group:\n",
    "\n",
    "From the above table we can see that the most important variables are:\n",
    "- DIUR - diuretics (leki moczopędne)\n",
    "- DIGOX - digoxin (leki glikozydowe)"
   ]
  },
  {
   "cell_type": "markdown",
   "metadata": {},
   "source": [
    "---\n",
    "# Biochemistry group\n",
    "## Biochemistry group description\n",
    "This group contains variables from biochemistry tests.\n",
    "\n",
    "## Biochemistry group variables\n",
    "- **HB** [VAR31] - number - level of blood hemoglobin\n",
    "- **NA** [VAR32] - number - level of blood sodium\n",
    "- **K** [VAR33] - number - level of blood potassium\n",
    "- **BNP** [VAR34] - number - level of blood peptide: BNP (elevated level is characteristic for heart failure)\n",
    "- **CRP** [VAR35] - number - level of blood protein CRP (characteristic for inflammation)\n",
    "\n",
    "---"
   ]
  },
  {
   "cell_type": "markdown",
   "metadata": {},
   "source": [
    "# Data preparation"
   ]
  },
  {
   "cell_type": "code",
   "execution_count": null,
   "metadata": {
    "ExecuteTime": {
     "end_time": "2023-06-20T18:22:43.645277Z",
     "start_time": "2023-06-20T18:22:43.585846Z"
    },
    "pycharm": {
     "is_executing": true
    }
   },
   "outputs": [],
   "source": [
    "# Create biochemistry group\n",
    "biochemistry_group = data[groups['biochemistry']].copy()\n",
    "print(f\"Biochemistry group columns: {biochemistry_group.columns}\")\n",
    "print(f\"Missing values: {biochemistry_group.isnull().sum()}\")\n",
    "\n",
    "# Validation of each column\n",
    "\n",
    "# Check HB column (number)\n",
    "print(f\"Type of HB column: {biochemistry_group['HB'].dtypes}\")\n",
    "print(f\"HB column unique values: {biochemistry_group['HB'].unique()}\")\n",
    "# Set all missing values with bfill (use next valid observation to fill gap)\n",
    "biochemistry_group['HB'] = biochemistry_group['HB'].fillna(method='bfill')\n",
    "\n",
    "# Check NA column (number)\n",
    "print(f\"Type of NA column: {biochemistry_group['NA'].dtypes}\")\n",
    "print(f\"NA column unique values: {biochemistry_group['NA'].unique()}\")\n",
    "# Set all missing values with bfill (use next valid observation to fill gap)\n",
    "biochemistry_group['NA'] = biochemistry_group['NA'].fillna(method='bfill')\n",
    "\n",
    "# Check K column (number)\n",
    "print(f\"Type of K column: {biochemistry_group['K'].dtypes}\")\n",
    "print(f\"K column unique values: {biochemistry_group['K'].unique()}\")\n",
    "# Set all missing values with bfill (use next valid observation to fill gap)\n",
    "biochemistry_group['K'] = biochemistry_group['K'].fillna(method='bfill')\n",
    "\n",
    "# Check BNP column (number)\n",
    "print(f\"Type of BNP column: {biochemistry_group['BNP'].dtypes}\")\n",
    "print(f\"BNP column unique values: {biochemistry_group['BNP'].unique()}\")\n",
    "# In BNP we have additional value 9999.0 - unknown so we replace it with NaN\n",
    "is_string = biochemistry_group['BNP'].apply(lambda x: isinstance(x, str))\n",
    "biochemistry_group['BNP'] = biochemistry_group['BNP'].where(~is_string, np.nan)\n",
    "# Set all missing values with bfill (use next valid observation to fill gap)\n",
    "biochemistry_group['BNP'] = biochemistry_group['BNP'].fillna(method='bfill')\n",
    "\n",
    "# Check CRP column (number)\n",
    "print(f\"Type of CRP column: {biochemistry_group['CRP'].dtypes}\")\n",
    "print(f\"CRP column unique values: {biochemistry_group['CRP'].unique()}\")\n",
    "# Set all missing values with bfill (use next valid observation to fill gap)\n",
    "biochemistry_group['CRP'] = biochemistry_group['CRP'].fillna(method='bfill')\n",
    "\n",
    "# Add NYHA target variable\n",
    "biochemistry_group['NYHA'] = NYHA"
   ]
  },
  {
   "cell_type": "code",
   "execution_count": null,
   "metadata": {
    "ExecuteTime": {
     "end_time": "2023-06-20T18:24:53.937527Z",
     "start_time": "2023-06-20T18:22:43.601109Z"
    },
    "pycharm": {
     "is_executing": true
    }
   },
   "outputs": [],
   "source": [
    "# Correlation matrix\n",
    "plot_corr_matrix(biochemistry_group, 'Correlation matrix for biochemistry group', (5, 5))\n",
    "\n",
    "# Check correlation with NYHA\n",
    "group_checking = prepare_group_checking(biochemistry_group)\n",
    "\n",
    "# Find important variables and replace all missing values with bifill (use next valid observation to fill gap)\n",
    "biochemistry_group = biochemistry_group.fillna(method='bfill')\n",
    "\n",
    "# Prepare data for Decision Tree Classifier\n",
    "X = biochemistry_group.drop(columns=['NYHA'])\n",
    "y = biochemistry_group['NYHA']\n",
    "model = DecisionTreeClassifier()\n",
    "model.fit(X, y)\n",
    "\n",
    "group_checking = add_importance_to_group_checking(group_checking, model.feature_importances_, X)\n",
    "group_checking = convert_group_checking_to_dataframe(group_checking)\n",
    "print(group_checking)\n",
    "\n",
    "# Remove columns with correlation less than 0.15\n",
    "columns_to_remove = group_checking[group_checking['correlation'] < 0.25].index\n",
    "biochemistry_group = biochemistry_group.drop(columns=columns_to_remove)\n",
    "\n",
    "plot_corr_matrix(biochemistry_group, 'Correlation matrix for biochemistry group after removing columns', (4, 4))\n",
    "\n",
    "X = biochemistry_group.drop(columns=['NYHA'])\n",
    "y = biochemistry_group['NYHA']\n",
    "model = DecisionTreeClassifier()\n",
    "model.fit(X, y)\n",
    "\n",
    "grid_search, before_grid_search = create_grid_search(model, X, y)\n",
    "biochemistry_model = grid_search.best_estimator_\n",
    "\n",
    "test_with_cross_validation(biochemistry_model, X, y, before_grid_search=before_grid_search)\n",
    "print_feature_importances(biochemistry_model.feature_importances_, X)"
   ]
  },
  {
   "cell_type": "markdown",
   "metadata": {},
   "source": [
    "# Conclusion from biochemistry group:\n",
    "From the above table we can see that the most important variables are:\n",
    "- BNP - level of blood peptide (poziom peptydu BNP) (podwyższony poziom BNP wskazuje na niewydolność serca)\n",
    "- K - level of potassium (poziom potasu)\n",
    "- HB - level of hemoglobin (poziom hemoglobiny)"
   ]
  },
  {
   "cell_type": "markdown",
   "metadata": {},
   "source": [
    "---\n",
    "# Fitness level group\n",
    "## Fitness level group description\n",
    "The fitness level group contains variables that describe the patient's fitness level.\n",
    "\n",
    "## Fitness level group variables\n",
    "- **EXERCISE1** [VAR41] - number - number of seconds needed to complete the task, higher number = worse\n",
    "- **EXERCISE2** [VAR42] - number - number of repeated movements during the task (higher number = better result)\n",
    "- **EXERCISE3** [VAR43] - number - number of repeated movements during the task (higher number = better result)\n",
    "- **6MWT.DIST** [VAR44] - number - number of meters (distance) covered by the patient during the 6 minute walking test (bigger number = better)\n",
    "- **6MWT.FATIGUE** [VAR45] - number OR categories(?) - the level of fatigue assessed by the patient after walking test (using a scale 0-10)\n",
    "- **6MWT.DYSPN** [VAR46] - number OR categories(?) - the level of shortness of breath during walking test assessed by the patient  (using a scale 0-10)\n",
    "- **6MWT.SBP1** [VAR47] - number - systolic blood pressure measured before the walking test\n",
    "- **6MWT.DBP1** [VAR48] - number - diastolic blood pressure measured before the walking test\n",
    "- **6MWT.HR1** [VAR49] - number - heart rate measured before the walking test\n",
    "- **6MWT.SBP2** [VAR50] - number - systolic blood pressure measured after the walking test\n",
    "- **6MWT.DBP2** [VAR51] - number - diastolic blood pressure measured after the walking test\n",
    "- **6MWT.HR2** [VAR52] - number - heart rate measured after the walking test\n",
    "- **EXERCISE4** [VAR53] - number - the patient is asked to touch his/her feet with the fingers of the palms. The number represents centimeters. Negative number means: number of centimeters  between the patients palm and leg in case of failing to touch the feet (higher number of negative centimeters = worse result). Positive number means that the patient could touch his feet without problems (higher number - better result)\n",
    "- **EXERCISE5** [VAR54] - number - the patient is asked to touch left palm with the right one but it has to be done at his back (one palm is directed up, the second is directed down). The number represents centimeters. Negative number means: number of centimeters  between the patients palms in case of failing to touch both palms (higher number of negative centimeters = worse result). Positive number means that the patient could touch his palms without problems (higher number - better result)\n",
    "- **CPX.TIME** [VAR55] - number - time of exercise on a treadmill\n",
    "- **CPX.PEAKVO2** [VAR56] - number - peak oxygen consumption during exercise testing on a treadmill\n",
    "- **CPX.PEAKVO2FORBM** [VAR57] - number - peak oxygen consumption during exercise testing on a treadmill per body mass\n",
    "- **RER** [VAR58] - number - respiratory exchange ratio(index of metabolism during an exercise on a treadmill)\n",
    "- **SLOPE** [VAR59] - number - slope between oxygen and carbon dioxide during exercise testing on a treadmill\n",
    "- **METS** [VAR60] - number - number of metabolic equivalents (level of work performed by the patient during exercise using a treadmill)\n",
    "- **WEBER** [VAR61] - categories - The Weber classification: stratification of patients based on peak VO2 and anaerobic threshold to define functional physical capacity. Higher class is worse\n",
    "- **PEAK>18** [VAR62] - binary - Dividing patients based on a cutoff value of peak oxygen consumption (used for Weber)\n",
    "- **SLOPE>35** [VAR63] - binary - Dividing patients based on a cutoff value of slope (used for Weber)\n",
    "\n",
    "---"
   ]
  },
  {
   "cell_type": "markdown",
   "metadata": {},
   "source": [
    "# Prepare fitness level group"
   ]
  },
  {
   "cell_type": "code",
   "execution_count": null,
   "metadata": {
    "ExecuteTime": {
     "end_time": "2023-06-20T18:24:53.991118Z",
     "start_time": "2023-06-20T18:24:53.950873Z"
    },
    "pycharm": {
     "is_executing": true
    }
   },
   "outputs": [],
   "source": [
    "# Create fitness_level group\n",
    "fitness_level_group = data[groups['fitness_level']].copy()\n",
    "print(f\"Fitness level group columns: {fitness_level_group.columns}\")\n",
    "print(f\"Missing values: {fitness_level_group.isna().sum()}\")\n",
    "potential_remove_columns = []\n",
    "# Validation of each column\n",
    "\n",
    "# EXERCISE1\n",
    "print(f\"EXERCISE1 missing values: {fitness_level_group['EXERCISE1'].isna().sum()}\")\n",
    "print(f\"Max value: {fitness_level_group['EXERCISE1'].max()}\")\n",
    "print(f\"Min value: {fitness_level_group['EXERCISE1'].min()}\")\n",
    "# Replace missing values with the mean\n",
    "fitness_level_group['EXERCISE1'] = fitness_level_group['EXERCISE1'].fillna(fitness_level_group['EXERCISE1'].mean())\n",
    "\n",
    "# EXERCISE2\n",
    "print(f\"EXERCISE2 missing values: {fitness_level_group['EXERCISE2'].isna().sum()}\")\n",
    "print(f\"Max value: {fitness_level_group['EXERCISE2'].max()}\")\n",
    "print(f\"Min value: {fitness_level_group['EXERCISE2'].min()}\")\n",
    "# Replace missing values with the mean\n",
    "fitness_level_group['EXERCISE2'] = fitness_level_group['EXERCISE2'].fillna(fitness_level_group['EXERCISE2'].mean())\n",
    "\n",
    "# EXERCISE3\n",
    "print(f\"EXERCISE3 missing values: {fitness_level_group['EXERCISE3'].isna().sum()}\")\n",
    "print(f\"Max value: {fitness_level_group['EXERCISE3'].max()}\")\n",
    "print(f\"Min value: {fitness_level_group['EXERCISE3'].min()}\")\n",
    "# Replace missing values with the mean\n",
    "fitness_level_group['EXERCISE3'] = fitness_level_group['EXERCISE3'].fillna(fitness_level_group['EXERCISE3'].mean())\n",
    "\n",
    "# 6MWT.DIST\n",
    "print(f\"6MWT.DIST missing values: {fitness_level_group['6MWT.DIST'].isna().sum()}\")\n",
    "print(f\"Max value: {fitness_level_group['6MWT.DIST'].max()}\")\n",
    "print(f\"Min value: {fitness_level_group['6MWT.DIST'].min()}\")\n",
    "# Replace missing values with the mean\n",
    "fitness_level_group['6MWT.DIST'] = fitness_level_group['6MWT.DIST'].fillna(fitness_level_group['6MWT.DIST'].mean())\n",
    "\n",
    "# 6MWT.FATIGUE\n",
    "print(f\"6MWT.FATIGUE missing values: {fitness_level_group['6MWT.FATIGUE'].isna().sum()}\")\n",
    "print(f\"Max value: {fitness_level_group['6MWT.FATIGUE'].max()}\")\n",
    "print(f\"Min value: {fitness_level_group['6MWT.FATIGUE'].min()}\")\n",
    "# Add to potential remove columns because of high number of missing values\n",
    "potential_remove_columns.append('6MWT.FATIGUE')\n",
    "# Replace missing values with bfill (use next valid observation to fill gap)\n",
    "fitness_level_group['6MWT.FATIGUE'] = fitness_level_group['6MWT.FATIGUE'].fillna(method='bfill')\n",
    "\n",
    "# 6MWT.DYSPN\n",
    "print(f\"6MWT.DYSPN missing values: {fitness_level_group['6MWT.DYSPN'].isna().sum()}\")\n",
    "print(f\"Max value: {fitness_level_group['6MWT.DYSPN'].max()}\")\n",
    "print(f\"Min value: {fitness_level_group['6MWT.DYSPN'].min()}\")\n",
    "# Add to potential remove columns because of high number of missing values\n",
    "potential_remove_columns.append('6MWT.DYSPN')\n",
    "# Replace missing values with bfill (use next valid observation to fill gap)\n",
    "fitness_level_group['6MWT.DYSPN'] = fitness_level_group['6MWT.DYSPN'].fillna(method='bfill')\n",
    "\n",
    "# 6MWT.SBP1\n",
    "print(f\"6MWT.SBP1 missing values: {fitness_level_group['6MWT.SBP1'].isna().sum()}\")\n",
    "print(f\"Max value: {fitness_level_group['6MWT.SBP1'].max()}\")\n",
    "print(f\"Min value: {fitness_level_group['6MWT.SBP1'].min()}\")\n",
    "# Add to potential remove columns because of high number of missing values\n",
    "potential_remove_columns.append('6MWT.SBP1')\n",
    "# Replace missing values with bfill (use next valid observation to fill gap)\n",
    "fitness_level_group['6MWT.SBP1'] = fitness_level_group['6MWT.SBP1'].fillna(method='bfill')\n",
    "\n",
    "# 6MWT.DBP1\n",
    "print(f\"6MWT.DBP1 missing values: {fitness_level_group['6MWT.DBP1'].isna().sum()}\")\n",
    "print(f\"Max value: {fitness_level_group['6MWT.DBP1'].max()}\")\n",
    "print(f\"Min value: {fitness_level_group['6MWT.DBP1'].min()}\")\n",
    "# Add to potential remove columns because of high number of missing values\n",
    "potential_remove_columns.append('6MWT.DBP1')\n",
    "# Replace missing values with bfill (use next valid observation to fill gap)\n",
    "fitness_level_group['6MWT.DBP1'] = fitness_level_group['6MWT.DBP1'].fillna(method='bfill')\n",
    "\n",
    "# 6MWT.HR1\n",
    "print(f\"6MWT.HR1 missing values: {fitness_level_group['6MWT.HR1'].isna().sum()}\")\n",
    "print(f\"Max value: {fitness_level_group['6MWT.HR1'].max()}\")\n",
    "print(f\"Min value: {fitness_level_group['6MWT.HR1'].min()}\")\n",
    "# Add to potential remove columns because of high number of missing values\n",
    "potential_remove_columns.append('6MWT.HR1')\n",
    "# Replace missing values with bfill (use next valid observation to fill gap)\n",
    "fitness_level_group['6MWT.HR1'] = fitness_level_group['6MWT.HR1'].fillna(method='bfill')\n",
    "\n",
    "# 6MWT.SBP2\n",
    "print(f\"6MWT.SBP2 missing values: {fitness_level_group['6MWT.SBP2'].isna().sum()}\")\n",
    "print(f\"Max value: {fitness_level_group['6MWT.SBP2'].max()}\")\n",
    "print(f\"Min value: {fitness_level_group['6MWT.SBP2'].min()}\")\n",
    "# Add to potential remove columns because of high number of missing values\n",
    "potential_remove_columns.append('6MWT.SBP2')\n",
    "# Replace missing values with bfill (use next valid observation to fill gap)\n",
    "fitness_level_group['6MWT.SBP2'] = fitness_level_group['6MWT.SBP2'].fillna(method='bfill')\n",
    "\n",
    "# 6MWT.DBP2\n",
    "print(f\"6MWT.DBP2 missing values: {fitness_level_group['6MWT.DBP2'].isna().sum()}\")\n",
    "print(f\"Max value: {fitness_level_group['6MWT.DBP2'].max()}\")\n",
    "print(f\"Min value: {fitness_level_group['6MWT.DBP2'].min()}\")\n",
    "# Add to potential remove columns because of high number of missing values\n",
    "potential_remove_columns.append('6MWT.DBP2')\n",
    "# Replace missing values with bfill (use next valid observation to fill gap)\n",
    "fitness_level_group['6MWT.DBP2'] = fitness_level_group['6MWT.DBP2'].fillna(method='bfill')\n",
    "\n",
    "# 6MWT.HR2\n",
    "print(f\"6MWT.HR2 missing values: {fitness_level_group['6MWT.HR2'].isna().sum()}\")\n",
    "print(f\"Max value: {fitness_level_group['6MWT.HR2'].max()}\")\n",
    "print(f\"Min value: {fitness_level_group['6MWT.HR2'].min()}\")\n",
    "# Add to potential remove columns because of high number of missing values\n",
    "potential_remove_columns.append('6MWT.HR2')\n",
    "# Replace missing values with bfill (use next valid observation to fill gap)\n",
    "fitness_level_group['6MWT.HR2'] = fitness_level_group['6MWT.HR2'].fillna(method='bfill')\n",
    "\n",
    "# EXERCISE4\n",
    "print(f\"EXERCISE4 missing values: {fitness_level_group['EXERCISE4'].isna().sum()}\")\n",
    "print(f\"Max value: {fitness_level_group['EXERCISE4'].max()}\")\n",
    "print(f\"Min value: {fitness_level_group['EXERCISE4'].min()}\")\n",
    "# Add to potential remove columns because of high number of missing values\n",
    "potential_remove_columns.append('EXERCISE4')\n",
    "# Replace missing values with bfill (use next valid observation to fill gap)\n",
    "fitness_level_group['EXERCISE4'] = fitness_level_group['EXERCISE4'].fillna(method='bfill')\n",
    "\n",
    "# EXERCISE5\n",
    "print(f\"EXERCISE5 missing values: {fitness_level_group['EXERCISE5'].isna().sum()}\")\n",
    "print(f\"Max value: {fitness_level_group['EXERCISE5'].max()}\")\n",
    "print(f\"Min value: {fitness_level_group['EXERCISE5'].min()}\")\n",
    "#  Add to potential remove columns because of high number of missing values\n",
    "potential_remove_columns.append('EXERCISE5')\n",
    "# Replace missing values with bfill (use next valid observation to fill gap)\n",
    "fitness_level_group['EXERCISE5'] = fitness_level_group['EXERCISE5'].fillna(method='bfill')\n",
    "\n",
    "# CPX.TIME\n",
    "print(f\"CPX.TIME missing values: {fitness_level_group['CPX.TIME'].isna().sum()}\")\n",
    "print(f\"Max value: {fitness_level_group['CPX.TIME'].max()}\")\n",
    "print(f\"Min value: {fitness_level_group['CPX.TIME'].min()}\")\n",
    "# Add to potential remove columns because of high number of missing values\n",
    "potential_remove_columns.append('CPX.TIME')\n",
    "# Replace missing values with bfill (use next valid observation to fill gap) and ffill (use previous valid observation to fill gap)\n",
    "fitness_level_group['CPX.TIME'] = fitness_level_group['CPX.TIME'].fillna(method='bfill')\n",
    "fitness_level_group['CPX.TIME'] = fitness_level_group['CPX.TIME'].fillna(method='ffill')\n",
    "\n",
    "# CPX.PEAKVO2\n",
    "print(f\"CPX.PEAKVO2 missing values: {fitness_level_group['CPX.PEAKVO2'].isna().sum()}\")\n",
    "print(f\"Max value: {fitness_level_group['CPX.PEAKVO2'].max()}\")\n",
    "print(f\"Min value: {fitness_level_group['CPX.PEAKVO2'].min()}\")\n",
    "# Add to potential remove columns because of high number of missing values\n",
    "potential_remove_columns.append('CPX.PEAKVO2')\n",
    "# Replace missing values with bfill (use next valid observation to fill gap) and ffill (use previous valid observation to fill gap)\n",
    "fitness_level_group['CPX.PEAKVO2'] = fitness_level_group['CPX.PEAKVO2'].fillna(method='bfill')\n",
    "fitness_level_group['CPX.PEAKVO2'] = fitness_level_group['CPX.PEAKVO2'].fillna(method='ffill')\n",
    "\n",
    "# CPX.PEAKVO2FORBM\n",
    "print(f\"CPX.PEAKVO2FORBM missing values: {fitness_level_group['CPX.PEAKVO2FORBM'].isna().sum()}\")\n",
    "print(f\"Max value: {fitness_level_group['CPX.PEAKVO2FORBM'].max()}\")\n",
    "print(f\"Min value: {fitness_level_group['CPX.PEAKVO2FORBM'].min()}\")\n",
    "# Add to potential remove columns because of high number of missing values\n",
    "potential_remove_columns.append('CPX.PEAKVO2FORBM')\n",
    "# Replace missing values with bfill (use next valid observation to fill gap) and ffill (use previous valid observation to fill gap)\n",
    "fitness_level_group['CPX.PEAKVO2FORBM'] = fitness_level_group['CPX.PEAKVO2FORBM'].fillna(method='bfill')\n",
    "fitness_level_group['CPX.PEAKVO2FORBM'] = fitness_level_group['CPX.PEAKVO2FORBM'].fillna(method='ffill')\n",
    "\n",
    "# RER\n",
    "print(f\"RER missing values: {fitness_level_group['RER'].isna().sum()}\")\n",
    "print(f\"Max value: {fitness_level_group['RER'].max()}\")\n",
    "print(f\"Min value: {fitness_level_group['RER'].min()}\")\n",
    "# Add to potential remove columns because of high number of missing values\n",
    "potential_remove_columns.append('RER')\n",
    "# Replace missing values with bfill (use next valid observation to fill gap) and ffill (use previous valid observation to fill gap)\n",
    "fitness_level_group['RER'] = fitness_level_group['RER'].fillna(method='bfill')\n",
    "fitness_level_group['RER'] = fitness_level_group['RER'].fillna(method='ffill')\n",
    "\n",
    "# SLOPE\n",
    "print(f\"SLOPE missing values: {fitness_level_group['SLOPE'].isna().sum()}\")\n",
    "print(f\"Max value: {fitness_level_group['SLOPE'].max()}\")\n",
    "print(f\"Min value: {fitness_level_group['SLOPE'].min()}\")\n",
    "# Add to potential remove columns because of high number of missing values\n",
    "potential_remove_columns.append('SLOPE')\n",
    "# Replace missing values with bfill (use next valid observation to fill gap) and ffill (use previous valid observation to fill gap)\n",
    "fitness_level_group['SLOPE'] = fitness_level_group['SLOPE'].fillna(method='bfill')\n",
    "fitness_level_group['SLOPE'] = fitness_level_group['SLOPE'].fillna(method='ffill')\n",
    "\n",
    "# METS\n",
    "print(f\"METS missing values: {fitness_level_group['METS'].isna().sum()}\")\n",
    "print(f\"Max value: {fitness_level_group['METS'].max()}\")\n",
    "print(f\"Min value: {fitness_level_group['METS'].min()}\")\n",
    "# Add to potential remove columns because of high number of missing values\n",
    "potential_remove_columns.append('METS')\n",
    "# Replace missing values with bfill (use next valid observation to fill gap) and ffill (use previous valid observation to fill gap)\n",
    "fitness_level_group['METS'] = fitness_level_group['METS'].fillna(method='bfill')\n",
    "fitness_level_group['METS'] = fitness_level_group['METS'].fillna(method='ffill')\n",
    "\n",
    "# WEBER\n",
    "print(f\"WEBER missing values: {fitness_level_group['WEBER'].isna().sum()}\")\n",
    "print(f\"Max value: {fitness_level_group['WEBER'].max()}\")\n",
    "print(f\"Min value: {fitness_level_group['WEBER'].min()}\")\n",
    "# Add to potential remove columns because of high number of missing values\n",
    "potential_remove_columns.append('WEBER')\n",
    "# Replace missing values with bfill (use next valid observation to fill gap) and ffill (use previous valid observation to fill gap)\n",
    "fitness_level_group['WEBER'] = fitness_level_group['WEBER'].fillna(method='bfill')\n",
    "fitness_level_group['WEBER'] = fitness_level_group['WEBER'].fillna(method='ffill')\n",
    "\n",
    "# PEAK>18\n",
    "print(f\"PEAK>18 missing values: {fitness_level_group['PEAK>18'].isna().sum()}\")\n",
    "print(f\"Max value: {fitness_level_group['PEAK>18'].max()}\")\n",
    "print(f\"Min value: {fitness_level_group['PEAK>18'].min()}\")\n",
    "# Add to potential remove columns because of high number of missing values\n",
    "potential_remove_columns.append('PEAK>18')\n",
    "# Replace missing values with bfill (use next valid observation to fill gap) and ffill (use previous valid observation to fill gap)\n",
    "fitness_level_group['PEAK>18'] = fitness_level_group['PEAK>18'].fillna(method='bfill')\n",
    "fitness_level_group['PEAK>18'] = fitness_level_group['PEAK>18'].fillna(method='ffill')\n",
    "\n",
    "# SLOPE>35\n",
    "print(f\"SLOPE>35 missing values: {fitness_level_group['SLOPE>35'].isna().sum()}\")\n",
    "print(f\"Max value: {fitness_level_group['SLOPE>35'].max()}\")\n",
    "print(f\"Min value: {fitness_level_group['SLOPE>35'].min()}\")\n",
    "# Add to potential remove columns because of high number of missing values\n",
    "potential_remove_columns.append('SLOPE>35')\n",
    "# Replace missing values with bfill (use next valid observation to fill gap) and ffill (use previous valid observation to fill gap)\n",
    "fitness_level_group['SLOPE>35'] = fitness_level_group['SLOPE>35'].fillna(method='bfill')\n",
    "fitness_level_group['SLOPE>35'] = fitness_level_group['SLOPE>35'].fillna(method='ffill')\n",
    "\n",
    "# Add NYHA target variable\n",
    "fitness_level_group['NYHA'] = NYHA\n",
    "\n",
    "# Print missing values\n",
    "print(f\"Missing values: {fitness_level_group.isna().sum().sum()}\")"
   ]
  },
  {
   "cell_type": "code",
   "execution_count": null,
   "metadata": {
    "ExecuteTime": {
     "end_time": "2023-06-20T18:27:00.503579Z",
     "start_time": "2023-06-20T18:24:53.984605Z"
    },
    "pycharm": {
     "is_executing": true
    }
   },
   "outputs": [],
   "source": [
    "# Correlation matrix\n",
    "plot_corr_matrix(fitness_level_group, 'Correlation matrix for fitness level group', (20, 20))\n",
    "\n",
    "# Check correlation with NYHA\n",
    "group_checking = prepare_group_checking(fitness_level_group)\n",
    "\n",
    "# Prepare data for Decision Tree Classifier\n",
    "X = fitness_level_group.drop(columns=['NYHA'])\n",
    "y = fitness_level_group['NYHA']\n",
    "model = DecisionTreeClassifier()\n",
    "model.fit(X, y)\n",
    "\n",
    "group_checking = add_importance_to_group_checking(group_checking, model.feature_importances_, X)\n",
    "group_checking = convert_group_checking_to_dataframe(group_checking)\n",
    "print(group_checking)\n",
    "\n",
    "# Remove columns with correlation less than 0.15\n",
    "columns_to_remove = group_checking[group_checking['correlation'] < 0.35].index\n",
    "fitness_level_group = fitness_level_group.drop(columns=columns_to_remove)\n",
    "\n",
    "# Use only NYHA, 6MWT.DIST, CPX.TIME, EXERCISE1 columns\n",
    "fitness_level_group = fitness_level_group[['NYHA', '6MWT.DIST', 'CPX.TIME', 'EXERCISE1']]\n",
    "\n",
    "plot_corr_matrix(fitness_level_group, 'Correlation matrix for fitness level group after removing columns', (15, 15))\n",
    "\n",
    "X = fitness_level_group.drop(columns=['NYHA'])\n",
    "y = fitness_level_group['NYHA']\n",
    "model = DecisionTreeClassifier()\n",
    "model.fit(X, y)\n",
    "\n",
    "grid_search, before_grid_search = create_grid_search(model, X, y)\n",
    "fitness_level_model = grid_search.best_estimator_\n",
    "\n",
    "test_with_cross_validation(fitness_level_model, X, y, before_grid_search=before_grid_search)\n",
    "print_feature_importances(fitness_level_model.feature_importances_, X)"
   ]
  },
  {
   "cell_type": "markdown",
   "metadata": {},
   "source": [
    "# Conclusion from fitness level group:\n",
    "From the above table we can see that the most important variables are:\n",
    "- 6MWT.DIST - distance in 6 minute walk test (dystans w teście 6 minutowego marszu)\n",
    "- CPX.TIME - time of exercise on a treadmill (czas ćwiczeń na bieżni)\n",
    "- EXERCISE1 - number of seconds needed to complete the task, higher number = worse)  (liczba sekund potrzebnych do wykonania zadania, im wyższa liczba tym gorzej)"
   ]
  },
  {
   "cell_type": "markdown",
   "metadata": {},
   "source": [
    "# 2. Training and improving the model\n",
    "\n",
    "## Some approach to create the model.\n",
    "\n",
    "1) Create the model per each group of variables and then use this models together to create the ensemble model.\n",
    "2) Create the model using only variables that are correlated with target variable which are representative for the model.\n",
    "\n",
    "All of this approaches will be tested and compared to each other."
   ]
  },
  {
   "cell_type": "markdown",
   "metadata": {},
   "source": [
    "# Help functions"
   ]
  },
  {
   "cell_type": "code",
   "execution_count": null,
   "metadata": {
    "ExecuteTime": {
     "end_time": "2023-06-20T18:40:21.570639Z",
     "start_time": "2023-06-20T18:40:21.549694Z"
    },
    "pycharm": {
     "is_executing": true
    }
   },
   "outputs": [],
   "source": [
    "import os\n",
    "from sklearn.tree import plot_tree\n",
    "from sklearn.metrics import confusion_matrix\n",
    "from sklearn.tree import _tree\n",
    "\n",
    "\n",
    "# https://mljar.com/blog/extract-rules-decision-tree/\n",
    "def get_rules(tree, feature_names, class_names):\n",
    "    tree_ = tree.tree_\n",
    "    feature_name = [\n",
    "        feature_names[i] if i != _tree.TREE_UNDEFINED else \"undefined!\"\n",
    "        for i in tree_.feature\n",
    "    ]\n",
    "\n",
    "    paths = []\n",
    "    path = []\n",
    "\n",
    "    def recurse(node, path, paths):\n",
    "\n",
    "        if tree_.feature[node] != _tree.TREE_UNDEFINED:\n",
    "            name = feature_name[node]\n",
    "            threshold = tree_.threshold[node]\n",
    "            p1, p2 = list(path), list(path)\n",
    "            p1 += [f\"({name} <= {np.round(threshold, 3)})\"]\n",
    "            recurse(tree_.children_left[node], p1, paths)\n",
    "            p2 += [f\"({name} > {np.round(threshold, 3)})\"]\n",
    "            recurse(tree_.children_right[node], p2, paths)\n",
    "        else:\n",
    "            path += [(tree_.value[node], tree_.n_node_samples[node])]\n",
    "            paths += [path]\n",
    "\n",
    "    recurse(0, path, paths)\n",
    "\n",
    "    # sort by samples count\n",
    "    samples_count = [p[-1][1] for p in paths]\n",
    "    ii = list(np.argsort(samples_count))\n",
    "    paths = [paths[i] for i in reversed(ii)]\n",
    "\n",
    "    rules = []\n",
    "    for path in paths:\n",
    "        rule = \"if \"\n",
    "\n",
    "        for p in path[:-1]:\n",
    "            if rule != \"if \":\n",
    "                rule += \" AND \"\n",
    "            rule += str(p)\n",
    "        rule += \" then \"\n",
    "        if class_names is None:\n",
    "            rule += \"response: \" + str(np.round(path[-1][0][0][0], 3))\n",
    "        else:\n",
    "            classes = path[-1][0][0]\n",
    "            l = np.argmax(classes)\n",
    "            rule += f\"(class={class_names[l]}) (proba: {np.round(100.0 * classes[l] / np.sum(classes), 2)}%)\"\n",
    "        rule += f\" | based on {path[-1][1]:,} samples\"\n",
    "        rules += [rule]\n",
    "\n",
    "    return rules\n",
    "\n",
    "\n",
    "def plot_decision_tree(model, X, figsize=(20, 10), dpi=1000, filename=None):\n",
    "    plt.figure(figsize=figsize, dpi=dpi)\n",
    "\n",
    "    filename = filename if filename else f\"max_depth_{model.max_depth}_min_samples_split_{model.min_samples_split}_min_samples_leaf_{model.min_samples_leaf}\"\n",
    "    plot_tree(model, feature_names=X.columns, filled=True, rounded=True,\n",
    "              class_names=[\"NYHA I\", \"NYHA II\", \"NYHA III\", \"NYHA IV\"]);\n",
    "    plt.title(f\"Decision tree for {filename}\")\n",
    "    plt.savefig(f\"plots/{filename}.png\", dpi=dpi)\n",
    "\n",
    "\n",
    "def plot_confusion_matrix(model, X, y, figsize=(10, 6), dpi=1000, filename=None):\n",
    "    preds = model.predict(X)\n",
    "    plt.figure(figsize=figsize, dpi=dpi)\n",
    "    sns.heatmap(confusion_matrix(y, preds), annot=True, cmap=\"viridis\", fmt=\"g\")\n",
    "    plt.xlabel(\"Predicted label\")\n",
    "    plt.ylabel(\"True label\")\n",
    "    plt.title(\"Confusion matrix\")\n",
    "    filename = filename if filename else f\"max_depth_{model.max_depth}_min_samples_split_{model.min_samples_split}_min_samples_leaf_{model.min_samples_leaf}\"\n",
    "    plt.savefig(f\"plots/confusion_matrix_{filename}.png\", dpi=dpi)\n",
    "\n",
    "\n",
    "def save_rules_to_file(filename, rules: str):\n",
    "    # create a directory for rules\n",
    "    if not os.path.exists(\"rules\"):\n",
    "        os.makedirs(\"rules\")\n",
    "\n",
    "    # save rules to file\n",
    "    with open(f\"rules/{filename}.txt\", \"w\") as f:\n",
    "        f.write(rules)\n",
    "\n",
    "\n",
    "def plot_confusion_matrix_for_predictions(y_true, y_pred, figsize=(20, 10), dpi=1000, filename=None):\n",
    "    plt.figure(figsize=figsize, dpi=dpi)\n",
    "    sns.heatmap(confusion_matrix(y_true, y_pred), annot=True, cmap=\"viridis\", fmt=\"g\")\n",
    "    plt.xlabel(\"Predicted label\")\n",
    "    plt.ylabel(\"True label\")\n",
    "    plt.title(\"Confusion matrix\")\n",
    "    filename = filename if filename else f\"max_depth_{model.max_depth}_min_samples_split_{model.min_samples_split}_min_samples_leaf_{model.min_samples_leaf}\"\n",
    "    plt.savefig(f\"plots/confusion_matrix_{filename}.png\", dpi=dpi)"
   ]
  },
  {
   "cell_type": "markdown",
   "metadata": {},
   "source": [
    "## 2.1. Prepare data"
   ]
  },
  {
   "cell_type": "code",
   "execution_count": null,
   "metadata": {
    "ExecuteTime": {
     "end_time": "2023-06-20T18:36:14.451988Z",
     "start_time": "2023-06-20T18:36:14.364632Z"
    },
    "pycharm": {
     "is_executing": true
    }
   },
   "outputs": [],
   "source": [
    "# Create new dataframe with chosen variables\n",
    "df = pd.DataFrame()\n",
    "df['NYHA'] = NYHA\n",
    "\n",
    "columns_to_add = clinical_group.columns\n",
    "for column in columns_to_add:\n",
    "    df[column] = clinical_group[column]\n",
    "\n",
    "df['AGE'] = demographic_group['AGE']\n",
    "df['AGE'] = df['AGE'].fillna(df['AGE'].mean())\n",
    "\n",
    "columns_to_add = comorbidities_group.columns\n",
    "for column in columns_to_add:\n",
    "    df[column] = comorbidities_group[column]\n",
    "\n",
    "columns_to_add = treatment_group.columns\n",
    "for column in columns_to_add:\n",
    "    df[column] = treatment_group[column]\n",
    "\n",
    "columns_to_add = fitness_level_group.columns\n",
    "for column in columns_to_add:\n",
    "    df[column] = fitness_level_group[column]\n"
   ]
  },
  {
   "cell_type": "markdown",
   "metadata": {},
   "source": [
    "## 2.2. Create ensemble model from all groups"
   ]
  },
  {
   "cell_type": "code",
   "execution_count": null,
   "metadata": {
    "ExecuteTime": {
     "end_time": "2023-06-20T18:42:11.189918Z",
     "start_time": "2023-06-20T18:40:26.819458Z"
    },
    "pycharm": {
     "is_executing": true
    }
   },
   "outputs": [],
   "source": [
    "from sklearn.ensemble import VotingClassifier\n",
    "\n",
    "# Remove all date columns\n",
    "print(data.columns)\n",
    "X = df.drop(columns=['NYHA'])\n",
    "y = df['NYHA']\n",
    "\n",
    "estimators = [('treatment', treatment_model), ('biochemistry', biochemistry_model), ('clinical', clinical_model),\n",
    "              ('comorbidities_model', comorbidities_model), ('fitness_level', fitness_level_model)]\n",
    "voting_model = VotingClassifier(\n",
    "    estimators=estimators)\n",
    "voting_model.fit(X, y)\n",
    "\n",
    "# Find the best parameters for voting model\n",
    "param_grid = {\n",
    "    'voting': ['hard', 'soft'],\n",
    "    'flatten_transform': [True, False],\n",
    "}\n",
    "\n",
    "grid_search = GridSearchCV(estimator=voting_model, param_grid=param_grid, cv=100)\n",
    "grid_search.fit(X, y)\n",
    "voting_model = grid_search.best_estimator_\n",
    "\n",
    "print(f\"Best voting model parameters: {grid_search.best_params_}\")\n",
    "print(f\"Best voting model score: {grid_search.best_score_}\")\n",
    "\n",
    "# Save rules and plot decision tree for each estimator\n",
    "for estimator in estimators:\n",
    "    rules = get_rules(estimator[1], list(X.columns), ['NYHA 1', 'NYHA 2', 'NYHA 3', 'NYHA 4'])\n",
    "    rules_txt = \"\"\n",
    "    for r in rules:\n",
    "        rules_txt += r + \"\\n\"\n",
    "    save_rules_to_file(f\"voting_{estimator[0]}\", rules_txt)\n",
    "    plot_decision_tree(estimator[1], X, filename=f\"voting_{estimator[0]}\")\n",
    "    # plot_confusion_matrix(estimator[1], X, y, filename=f\"voting_{estimator[0]}\")\n"
   ]
  },
  {
   "cell_type": "markdown",
   "metadata": {},
   "source": [
    "## 2.2.1. Evaluate the model"
   ]
  },
  {
   "cell_type": "code",
   "execution_count": null,
   "metadata": {
    "ExecuteTime": {
     "end_time": "2023-06-20T18:39:05.193716Z",
     "start_time": "2023-06-20T18:38:50.230436Z"
    },
    "pycharm": {
     "is_executing": true
    }
   },
   "outputs": [],
   "source": [
    "# Evaluate with cross validation\n",
    "X = df.drop(columns=['NYHA'])\n",
    "y = df['NYHA']\n",
    "\n",
    "kfold = KFold(n_splits=100, shuffle=True)\n",
    "voting_results = cross_val_score(voting_model, X, y, cv=kfold)\n",
    "print(f\"Accuracy: {voting_results.mean() * 100.0}%\")"
   ]
  },
  {
   "cell_type": "markdown",
   "metadata": {},
   "source": [
    "## 2.3. Create the model using only variables that are correlated with target variable"
   ]
  },
  {
   "cell_type": "code",
   "execution_count": null,
   "metadata": {
    "ExecuteTime": {
     "end_time": "2023-06-20T18:29:35.860200Z",
     "start_time": "2023-06-20T18:27:08.215161Z"
    },
    "pycharm": {
     "is_executing": true
    }
   },
   "outputs": [],
   "source": [
    "from sklearn.tree import DecisionTreeClassifier\n",
    "\n",
    "# Remove OQLsub1, AGE, KIDNEY.DIS, EXERCISE1, AF, DEATH?, MR, DM, DIUR, DIGOX from columns\n",
    "df = df.drop(['MR', 'DM', 'DIUR', 'DEATH?'], axis=1)\n",
    "\n",
    "# Create a decision tree classifier\n",
    "X = df.drop(columns=[\"NYHA\"])\n",
    "y = df[\"NYHA\"]\n",
    "\n",
    "model = DecisionTreeClassifier()\n",
    "\n",
    "# Find the best parameters for the model\n",
    "grid_search, _ = create_grid_search(model, X, y, cv=10)\n",
    "tree_model = grid_search.best_estimator_\n",
    "print(f\"Best parameters: {grid_search.best_params_}\")\n",
    "print(f\"Best score: {grid_search.best_score_}\")\n",
    "print(f\"Feature importances: {tree_model.feature_importances_}\")\n",
    "print_feature_importances(tree_model.feature_importances_, X)"
   ]
  },
  {
   "cell_type": "markdown",
   "metadata": {},
   "source": [
    "## 2.3.1. Evaluate the model"
   ]
  },
  {
   "cell_type": "code",
   "execution_count": null,
   "metadata": {
    "ExecuteTime": {
     "end_time": "2023-06-20T18:30:07.229084Z",
     "start_time": "2023-06-20T18:29:35.862199Z"
    },
    "pycharm": {
     "is_executing": true
    }
   },
   "outputs": [],
   "source": [
    "from sklearn.model_selection import train_test_split\n",
    "\n",
    "# Evaluate with cross validation\n",
    "X = df.drop(columns=['NYHA'])\n",
    "y = df['NYHA']\n",
    "\n",
    "kfold = KFold(n_splits=100, shuffle=True)\n",
    "tree_results = cross_val_score(tree_model, X, y, cv=kfold)\n",
    "print(f\"Accuracy: {tree_results.mean() * 100.0}%\")\n",
    "\n",
    "X_train, X_test, y_train, y_test = train_test_split(X, y, test_size=0.1)\n",
    "plot_decision_tree(tree_model, X, filename=\"decision_tree\")\n",
    "plot_confusion_matrix(tree_model, X_test, y_test, filename=\"decision_tree\")"
   ]
  },
  {
   "cell_type": "markdown",
   "metadata": {},
   "source": [
    "# Summary of the model\n",
    "\n",
    "## The best model is the Decission Tree learner with the following parameters:\n",
    "- class_weight: None\n",
    "- criterion: gini\n",
    "- max_depth: 4\n",
    "- min_samples_leaf: 1\n",
    "- min_samples_split: 2\n",
    "\n",
    "## The accuracy of the model is 62.17%.\n"
   ]
  },
  {
   "cell_type": "markdown",
   "metadata": {},
   "source": [
    "# Decision rules"
   ]
  },
  {
   "cell_type": "code",
   "execution_count": null,
   "metadata": {
    "ExecuteTime": {
     "end_time": "2023-06-20T18:30:07.229160Z",
     "start_time": "2023-06-20T18:29:56.575425Z"
    },
    "pycharm": {
     "is_executing": true
    }
   },
   "outputs": [],
   "source": [
    "from sklearn.tree import export_text\n",
    "\n",
    "r = export_text(tree_model, feature_names=list(X.columns))\n",
    "print(r)"
   ]
  },
  {
   "cell_type": "code",
   "execution_count": null,
   "metadata": {
    "ExecuteTime": {
     "end_time": "2023-06-20T18:31:04.624760Z",
     "start_time": "2023-06-20T18:31:04.570807Z"
    },
    "pycharm": {
     "is_executing": true
    }
   },
   "outputs": [],
   "source": [
    "rules = get_rules(tree_model, list(X.columns), ['NYHA 1', 'NYHA 2', 'NYHA 3', 'NYHA 4'])\n",
    "rules_txt = \"\"\n",
    "for r in rules:\n",
    "    rules_txt += r + \"\\n\"\n",
    "save_rules_to_file(\"decision_tree_\", rules_txt)"
   ]
  }
 ],
 "metadata": {
  "kernelspec": {
   "display_name": "Python 3 (ipykernel)",
   "language": "python",
   "name": "python3"
  },
  "language_info": {
   "codemirror_mode": {
    "name": "ipython",
    "version": 3
   },
   "file_extension": ".py",
   "mimetype": "text/x-python",
   "name": "python",
   "nbconvert_exporter": "python",
   "pygments_lexer": "ipython3",
   "version": "3.10.11"
  }
 },
 "nbformat": 4,
 "nbformat_minor": 1
}
